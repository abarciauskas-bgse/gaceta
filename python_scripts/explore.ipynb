{
 "cells": [
  {
   "cell_type": "code",
   "execution_count": 1,
   "metadata": {
    "collapsed": true
   },
   "outputs": [],
   "source": [
    "import corpus\n",
    "import document"
   ]
  },
  {
   "cell_type": "code",
   "execution_count": 9,
   "metadata": {
    "collapsed": false
   },
   "outputs": [
    {
     "name": "stdout",
     "output_type": "stream",
     "text": [
      "['GASETA', '', 'MUNICIPAL', 'SUMARI', 'Disposicions generals', 'Acords dels \\xc3\\xb2rgans de govern', 'Preus p\\xc3\\xbablics per a la utilitzaci\\xc3\\xb3 dels diferents', 'serveis als equipaments del Districte de', 'l\\xe2\\x80\\x99Eixample per a l\\xe2\\x80\\x99any 2000 .........................', 'Decrets de l\\xe2\\x80\\x99Alcaldia']\n"
     ]
    }
   ],
   "source": [
    "text = open('1-2000.txt', 'r').read()\n",
    "# remove table of contents\n",
    "text = text.split('\\n')\n",
    "len(text)"
   ]
  },
  {
   "cell_type": "code",
   "execution_count": null,
   "metadata": {
    "collapsed": true
   },
   "outputs": [],
   "source": []
  }
 ],
 "metadata": {
  "kernelspec": {
   "display_name": "Python 2",
   "language": "python",
   "name": "python2"
  },
  "language_info": {
   "codemirror_mode": {
    "name": "ipython",
    "version": 2
   },
   "file_extension": ".py",
   "mimetype": "text/x-python",
   "name": "python",
   "nbconvert_exporter": "python",
   "pygments_lexer": "ipython2",
   "version": "2.7.10"
  }
 },
 "nbformat": 4,
 "nbformat_minor": 0
}
