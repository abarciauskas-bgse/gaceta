{
 "cells": [
  {
   "cell_type": "markdown",
   "metadata": {},
   "source": [
    "# Clustering redundant alignments from the database"
   ]
  },
  {
   "cell_type": "code",
   "execution_count": 10,
   "metadata": {
    "collapsed": false
   },
   "outputs": [
    {
     "name": "stdout",
     "output_type": "stream",
     "text": [
      "Total number of alignments from year 20031: 30628\n"
     ]
    },
    {
     "data": {
      "text/plain": [
       "59"
      ]
     },
     "execution_count": 10,
     "metadata": {},
     "output_type": "execute_result"
    }
   ],
   "source": [
    "import psycopg2\n",
    "import numpy as np\n",
    "import matplotlib.mlab as mlab\n",
    "import matplotlib.pyplot as plt\n",
    "import numpy as np\n",
    "import json\n",
    "\n",
    "database = 'fomc'\n",
    "conn = psycopg2.connect(\"dbname=\" + database + \" user=abarciauskas\")\n",
    "cur = conn.cursor()\n",
    "\n",
    "nw_score_thresh = -5\n",
    "year = '20031'\n",
    "\n",
    "cur.execute(\"SELECT count(*) FROM alignments WHERE Year = '\" + str(year) + \"'\")\n",
    "print 'Total number of alignments from year ' + str(year) + ': ' + str(int(cur.fetchone()[0]))\n",
    "\n",
    "cur.execute(\n",
    "    \"SELECT Doc1Id,Doc2Id,nwscore FROM alignments WHERE Year = '\" \n",
    "    + str(year) + \"' AND nwscore >= \" + str(nw_score_thresh)\n",
    ")\n",
    "redundancies = cur.fetchall()\n",
    "len(redundancies)"
   ]
  },
  {
   "cell_type": "markdown",
   "metadata": {},
   "source": [
    "## Step 1: Create the graph\n",
    "\n",
    "The graph is comprised a list of edges (a vertex tuple) and a dictionary of vertices."
   ]
  },
  {
   "cell_type": "code",
   "execution_count": 11,
   "metadata": {
    "collapsed": false
   },
   "outputs": [
    {
     "name": "stdout",
     "output_type": "stream",
     "text": [
      "65\n",
      "59\n"
     ]
    }
   ],
   "source": [
    "def create_graph(alignments):\n",
    "    edges = [tuple([x[0],x[1]]) for x in alignments]\n",
    "    vertices = {}\n",
    "    for edge in edges:\n",
    "        v1 = edge[0]\n",
    "        v2 = edge[1]\n",
    "        if v1 in vertices.keys():\n",
    "            vertices[v1].add(v2)\n",
    "        else:\n",
    "            vertices[v1] = {v2}\n",
    "        if v2 in vertices.keys():\n",
    "            vertices[v2].add(v1)\n",
    "        else:\n",
    "            vertices[v2] = {v1}\n",
    "    return [edges, vertices]\n",
    "\n",
    "edges, vertices = create_graph(redundancies)\n",
    "print len(vertices)\n",
    "print len(edges)"
   ]
  },
  {
   "cell_type": "code",
   "execution_count": 50,
   "metadata": {
    "collapsed": true
   },
   "outputs": [],
   "source": [
    "# Testing\n",
    "# vertices = {1: {5}, 2: {3,4}, 3: {2,4}, 4: {2,3}, 5: {1}}\n",
    "# edges = [{1,5}, {2,3}, {2,4}, {3,2}, {3,4}]"
   ]
  },
  {
   "cell_type": "code",
   "execution_count": 12,
   "metadata": {
    "collapsed": false
   },
   "outputs": [
    {
     "name": "stdout",
     "output_type": "stream",
     "text": [
      "0\n",
      "2\n",
      "23\n"
     ]
    }
   ],
   "source": [
    "# need to find disconnected graphs\n",
    "graphs = []\n",
    "unvisited = set(vertices.keys())\n",
    "\n",
    "# Detect distinct graphs\n",
    "while len(unvisited) > 0:\n",
    "    # for every vertex, find all of its connected components and recurse on those vertices\n",
    "    visited = []\n",
    "    current_vertex = unvisited.pop()\n",
    "    visited.append(current_vertex)\n",
    "    stack_to_visit = list(vertices[current_vertex])\n",
    "    while len(stack_to_visit) > 0:\n",
    "        current_vertex = stack_to_visit.pop()\n",
    "        current_adj_vtcs = vertices[current_vertex]\n",
    "        if current_vertex not in visited: visited.append(current_vertex)\n",
    "        if current_vertex in unvisited: unvisited.remove(current_vertex)        \n",
    "        for v in current_adj_vtcs:\n",
    "            if v not in visited:\n",
    "                stack_to_visit.insert(0, v)\n",
    "    graphs.append(visited)\n",
    "\n",
    "print len(unvisited)\n",
    "print len(visited)\n",
    "print len(graphs)"
   ]
  },
  {
   "cell_type": "code",
   "execution_count": 13,
   "metadata": {
    "collapsed": false
   },
   "outputs": [
    {
     "data": {
      "text/plain": [
       "[2, 12, 2, 2, 2, 4, 2, 2, 4, 3]"
      ]
     },
     "execution_count": 13,
     "metadata": {},
     "output_type": "execute_result"
    }
   ],
   "source": [
    "# What is the distribution of these clusters?\n",
    "cluster_sizes = [len(cluster) for cluster in graphs]\n",
    "cluster_sizes[0:10]"
   ]
  },
  {
   "cell_type": "code",
   "execution_count": 14,
   "metadata": {
    "collapsed": false
   },
   "outputs": [
    {
     "data": {
      "image/png": "[encoded data removed]",
      "text/plain": [
       "<matplotlib.figure.Figure at 0x1045b8a10>"
      ]
     },
     "metadata": {},
     "output_type": "display_data"
    }
   ],
   "source": [
    "%matplotlib inline\n",
    "\n",
    "# the histogram of the data\n",
    "n, bins, patches = plt.hist(cluster_sizes, 10, normed=1, facecolor='green', alpha=0.75)\n",
    "mu = np.mean(cluster_sizes)\n",
    "sigma = np.std(cluster_sizes)\n",
    "plt.title(r'$\\mathrm{Histogram\\ of\\ Redundant\\ Cluster\\ Sizes\\ ' + str(year) + '\\ ' + database.upper() + ':}\\ \\mu='\n",
    "          '' + str(mu) + ',\\ \\sigma=' + str(sigma) + '$')\n",
    "# Note: there is a value lower, ths has cut some extremes\n",
    "plt.grid(True)\n",
    "plt.plot()\n",
    "plt.savefig('redundant_cluster_sizes_' + database + '.png')"
   ]
  },
  {
   "cell_type": "code",
   "execution_count": 15,
   "metadata": {
    "collapsed": false
   },
   "outputs": [
    {
     "data": {
      "text/plain": [
       "1"
      ]
     },
     "execution_count": 15,
     "metadata": {},
     "output_type": "execute_result"
    }
   ],
   "source": [
    "# Filter clusters to those with at least 4 instances\n",
    "threshold = 7\n",
    "clusters = filter(lambda x: len(x) >= threshold, graphs)\n",
    "len(clusters)"
   ]
  },
  {
   "cell_type": "code",
   "execution_count": 16,
   "metadata": {
    "collapsed": false
   },
   "outputs": [
    {
     "name": "stdout",
     "output_type": "stream",
     "text": [
      "[('Housing activity surged in October.',)]\n",
      "\n"
     ]
    }
   ],
   "source": [
    "# Find cluster centroid\n",
    "for cluster in clusters:\n",
    "    degrees = [len(vertices[vertex]) for vertex in cluster]\n",
    "    centroid_id = cluster[degrees.index(max(degrees))]\n",
    "    cur.execute(\"SELECT Original FROM processed_documents WHERE Id = \" + str(centroid_id))\n",
    "    centroid = cur.fetchall()\n",
    "    print centroid\n",
    "    print ''"
   ]
  },
  {
   "cell_type": "code",
   "execution_count": 17,
   "metadata": {
    "collapsed": false
   },
   "outputs": [],
   "source": [
    "conn.close()"
   ]
  }
 ],
 "metadata": {
  "kernelspec": {
   "display_name": "Python 2",
   "language": "python",
   "name": "python2"
  },
  "language_info": {
   "codemirror_mode": {
    "name": "ipython",
    "version": 2
   },
   "file_extension": ".py",
   "mimetype": "text/x-python",
   "name": "python",
   "nbconvert_exporter": "python",
   "pygments_lexer": "ipython2",
   "version": "2.7.11"
  }
 },
 "nbformat": 4,
 "nbformat_minor": 0
}
