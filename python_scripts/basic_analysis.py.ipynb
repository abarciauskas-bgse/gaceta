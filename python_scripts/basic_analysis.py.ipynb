{
 "cells": [
  {
   "cell_type": "code",
   "execution_count": 33,
   "metadata": {
    "collapsed": false
   },
   "outputs": [
    {
     "data": {
      "text/plain": [
       "[(51,), (15,), (140,), (101,), (10,), (9,), (28,), (79,), (86,), (5,)]"
      ]
     },
     "execution_count": 33,
     "metadata": {},
     "output_type": "execute_result"
    }
   ],
   "source": [
    "import psycopg2\n",
    "import pandas as pd\n",
    "import matplotlib.pyplot as plt\n",
    "import numpy as np\n",
    "\n",
    "conn = psycopg2.connect(\"dbname=testdb user=abarciauskas\")\n",
    "\n",
    "cur = conn.cursor()\n",
    "\n",
    "cur.execute(\"SELECT Length FROM documents;\")\n",
    "doc_lengths = cur.fetchall()\n",
    "doc_lengths[0:10]"
   ]
  },
  {
   "cell_type": "code",
   "execution_count": 17,
   "metadata": {
    "collapsed": false
   },
   "outputs": [
    {
     "data": {
      "text/plain": [
       "<matplotlib.axes._subplots.AxesSubplot at 0x10f2e5fd0>"
      ]
     },
     "execution_count": 17,
     "metadata": {},
     "output_type": "execute_result"
    },
    {
     "data": {
      "image/png": "[encoded data removed]",
      "text/plain": [
       "<matplotlib.figure.Figure at 0x10e23dc10>"
      ]
     },
     "metadata": {},
     "output_type": "display_data"
    }
   ],
   "source": [
    "%matplotlib inline\n",
    "\n",
    "df = pd.DataFrame(doc_lengths)\n",
    "df.plot(kind='density')"
   ]
  },
  {
   "cell_type": "code",
   "execution_count": 34,
   "metadata": {
    "collapsed": false
   },
   "outputs": [
    {
     "data": {
      "text/plain": [
       "<matplotlib.axes._subplots.AxesSubplot at 0x10e28d510>"
      ]
     },
     "execution_count": 34,
     "metadata": {},
     "output_type": "execute_result"
    },
    {
     "data": {
      "image/png": "[encoded data removed]",
      "text/plain": [
       "<matplotlib.figure.Figure at 0x10f2d7090>"
      ]
     },
     "metadata": {},
     "output_type": "display_data"
    }
   ],
   "source": [
    "%matplotlib inline\n",
    "\n",
    "# percentile_cont(fraction) WITHIN GROUP (ORDER BY sort_expression)\n",
    "# continuous percentile: returns a value corresponding to the specified fraction in the ordering,\n",
    "# interpolating between adjacent input items if needed\n",
    "# http://www.postgresql.org/docs/current/static/functions-aggregate.html\n",
    "query_string = \"SELECT percentile_disc(0.99) WITHIN GROUP (ORDER BY Length) FROM documents;\"\n",
    "cur.execute(query_string)\n",
    "length_99percent = cur.fetchall()[0][0]\n",
    "\n",
    "query_string = \"select Length from documents where Length <= \" + str(length_99percent)\n",
    "cur.execute(query_string)\n",
    "doc_lengths = cur.fetchall()\n",
    "df = pd.DataFrame(doc_lengths)\n",
    "df.plot(kind='density')"
   ]
  },
  {
   "cell_type": "code",
   "execution_count": 38,
   "metadata": {
    "collapsed": false
   },
   "outputs": [
    {
     "name": "stdout",
     "output_type": "stream",
     "text": [
      "Average length of document in SPLIT_NORM: 24.7536123882\n",
      "Max length of document in SPLIT_NORM: 141\n",
      "Median length of document in SPLIT_NORM: 21.0\n"
     ]
    }
   ],
   "source": [
    "avg_doc_length = np.mean(doc_lengths)\n",
    "print \"Average length of document in SPLIT_NORM: \" + str(avg_doc_length)\n",
    "print \"Max length of document in SPLIT_NORM: \" + str(np.max(doc_lengths))\n",
    "print \"Median length of document in SPLIT_NORM: \" + str(np.median(doc_lengths))"
   ]
  },
  {
   "cell_type": "code",
   "execution_count": null,
   "metadata": {
    "collapsed": true
   },
   "outputs": [],
   "source": [
    "# time to read in documents into database\n",
    "\n"
   ]
  }
 ],
 "metadata": {
  "kernelspec": {
   "display_name": "Python 2",
   "language": "python",
   "name": "python2"
  },
  "language_info": {
   "codemirror_mode": {
    "name": "ipython",
    "version": 2
   },
   "file_extension": ".py",
   "mimetype": "text/x-python",
   "name": "python",
   "nbconvert_exporter": "python",
   "pygments_lexer": "ipython2",
   "version": "2.7.10"
  }
 },
 "nbformat": 4,
 "nbformat_minor": 0
}
