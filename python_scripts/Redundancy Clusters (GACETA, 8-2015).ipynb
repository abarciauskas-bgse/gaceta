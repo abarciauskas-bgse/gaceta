{
 "cells": [
  {
   "cell_type": "markdown",
   "metadata": {},
   "source": [
    "# Clustering redundant alignments from the database"
   ]
  },
  {
   "cell_type": "code",
   "execution_count": 1,
   "metadata": {
    "collapsed": false
   },
   "outputs": [
    {
     "name": "stdout",
     "output_type": "stream",
     "text": [
      "Total number of alignments from year 8-2015: 440391\n"
     ]
    },
    {
     "data": {
      "text/plain": [
       "973"
      ]
     },
     "execution_count": 1,
     "metadata": {},
     "output_type": "execute_result"
    }
   ],
   "source": [
    "import psycopg2\n",
    "import numpy as np\n",
    "import matplotlib.mlab as mlab\n",
    "import matplotlib.pyplot as plt\n",
    "import numpy as np\n",
    "import json\n",
    "\n",
    "database = 'gaceta'\n",
    "conn = psycopg2.connect(\"dbname=\" + database + \" user=abarciauskas\")\n",
    "cur = conn.cursor()\n",
    "\n",
    "nw_score_thresh = 0\n",
    "year = '8-2015'\n",
    "\n",
    "cur.execute(\"SELECT count(*) FROM alignments WHERE Year = '\" + str(year) + \"'\")\n",
    "print 'Total number of alignments from year ' + str(year) + ': ' + str(int(cur.fetchone()[0]))\n",
    "\n",
    "cur.execute(\n",
    "    \"SELECT Doc1Id,Doc2Id,nwscore FROM alignments WHERE Year = '\" \n",
    "    + str(year) + \"' AND nwscore >= \" + str(nw_score_thresh)\n",
    ")\n",
    "redundancies = cur.fetchall()\n",
    "len(redundancies)"
   ]
  },
  {
   "cell_type": "markdown",
   "metadata": {},
   "source": [
    "## Step 1: Create the graph\n",
    "\n",
    "The graph is comprised a list of edges (a vertex tuple) and a dictionary of vertices."
   ]
  },
  {
   "cell_type": "code",
   "execution_count": 3,
   "metadata": {
    "collapsed": false
   },
   "outputs": [
    {
     "name": "stdout",
     "output_type": "stream",
     "text": [
      "576\n",
      "973\n"
     ]
    }
   ],
   "source": [
    "def create_graph(alignments):\n",
    "    edges = [tuple([x[0],x[1]]) for x in alignments]\n",
    "    vertices = {}\n",
    "    for edge in edges:\n",
    "        v1 = edge[0]\n",
    "        v2 = edge[1]\n",
    "        if v1 in vertices.keys():\n",
    "            vertices[v1].add(v2)\n",
    "        else:\n",
    "            vertices[v1] = {v2}\n",
    "        if v2 in vertices.keys():\n",
    "            vertices[v2].add(v1)\n",
    "        else:\n",
    "            vertices[v2] = {v1}\n",
    "    return [edges, vertices]\n",
    "\n",
    "edges, vertices = create_graph(redundancies)\n",
    "print len(vertices)\n",
    "print len(edges)"
   ]
  },
  {
   "cell_type": "code",
   "execution_count": 50,
   "metadata": {
    "collapsed": true
   },
   "outputs": [],
   "source": [
    "# Testing\n",
    "# vertices = {1: {5}, 2: {3,4}, 3: {2,4}, 4: {2,3}, 5: {1}}\n",
    "# edges = [{1,5}, {2,3}, {2,4}, {3,2}, {3,4}]"
   ]
  },
  {
   "cell_type": "code",
   "execution_count": 4,
   "metadata": {
    "collapsed": false
   },
   "outputs": [
    {
     "name": "stdout",
     "output_type": "stream",
     "text": [
      "0\n",
      "3\n",
      "162\n"
     ]
    }
   ],
   "source": [
    "# need to find disconnected graphs\n",
    "graphs = []\n",
    "unvisited = set(vertices.keys())\n",
    "\n",
    "# Detect distinct graphs\n",
    "while len(unvisited) > 0:\n",
    "    # for every vertex, find all of its connected components and recurse on those vertices\n",
    "    visited = []\n",
    "    current_vertex = unvisited.pop()\n",
    "    visited.append(current_vertex)\n",
    "    stack_to_visit = list(vertices[current_vertex])\n",
    "    while len(stack_to_visit) > 0:\n",
    "        current_vertex = stack_to_visit.pop()\n",
    "        current_adj_vtcs = vertices[current_vertex]\n",
    "        if current_vertex not in visited: visited.append(current_vertex)\n",
    "        if current_vertex in unvisited: unvisited.remove(current_vertex)        \n",
    "        for v in current_adj_vtcs:\n",
    "            if v not in visited:\n",
    "                stack_to_visit.insert(0, v)\n",
    "    graphs.append(visited)\n",
    "\n",
    "print len(unvisited)\n",
    "print len(visited)\n",
    "print len(graphs)"
   ]
  },
  {
   "cell_type": "code",
   "execution_count": 5,
   "metadata": {
    "collapsed": false
   },
   "outputs": [
    {
     "data": {
      "text/plain": [
       "[22, 2, 3, 2, 2, 8, 2, 2, 6, 6]"
      ]
     },
     "execution_count": 5,
     "metadata": {},
     "output_type": "execute_result"
    }
   ],
   "source": [
    "# What is the distribution of these clusters?\n",
    "cluster_sizes = [len(cluster) for cluster in graphs]\n",
    "cluster_sizes[0:10]"
   ]
  },
  {
   "cell_type": "code",
   "execution_count": 9,
   "metadata": {
    "collapsed": false
   },
   "outputs": [
    {
     "data": {
      "image/png": "[encoded data removed]",
      "text/plain": [
       "<matplotlib.figure.Figure at 0x106f51810>"
      ]
     },
     "metadata": {},
     "output_type": "display_data"
    }
   ],
   "source": [
    "%matplotlib inline\n",
    "\n",
    "# the histogram of the data\n",
    "n, bins, patches = plt.hist(cluster_sizes, 10, normed=1, facecolor='blue', alpha=0.75)\n",
    "mu = np.mean(cluster_sizes)\n",
    "sigma = np.std(cluster_sizes)\n",
    "plt.title(r'$\\mathrm{Histogram\\ of\\ Redundant\\ Cluster\\ Sizes in Gaceta:}\\ \\mu=' + str(mu) + ',\\ \\sigma=' + str(sigma) + '$')\n",
    "# Note: there is a value lower, ths has cut some extremes\n",
    "plt.grid(True)\n",
    "plt.plot()\n",
    "plt.savefig('redundant_cluster_sizes_' + database + '.png')"
   ]
  },
  {
   "cell_type": "code",
   "execution_count": 11,
   "metadata": {
    "collapsed": false
   },
   "outputs": [
    {
     "data": {
      "text/plain": [
       "5"
      ]
     },
     "execution_count": 11,
     "metadata": {},
     "output_type": "execute_result"
    }
   ],
   "source": [
    "# Filter clusters to those with at least x instances\n",
    "threshold = 10\n",
    "clusters = filter(lambda x: len(x) >= threshold, graphs)\n",
    "len(clusters)"
   ]
  },
  {
   "cell_type": "code",
   "execution_count": 32,
   "metadata": {
    "collapsed": false
   },
   "outputs": [
    {
     "name": "stdout",
     "output_type": "stream",
     "text": [
      "Un lloc de treball de SUPORT 3 de la família professional General (GE) adscrit a el Departament de Planificació de Mobilitat de la Direcció de Serveis de Mobilitat de la Gerència de Prevenció Seguretat i Mobilitat.\n",
      "\n",
      "– Per el desenvolupament d un lloc de treball inferior en dos nivells a el de el lloc de treball convocat: 0,50 punts.\n",
      "\n",
      "Les tasques d aquest lloc de treball no es desenvolupen en un marc normatiu o de processos estandarditzats.\n",
      "\n",
      "Quan la resolució de la convocatòria comporti el reingrés a el servei actiu en la categoria objecte de la convocatòria, la presa de possessió es durà a terme el segon dia hàbil següent a la data de la publicació de la resolució de el concurs a la Gaseta Municipal.\n",
      "\n",
      "Requereixen de la capacitat de comunicació i influència necessària per interactuar amb la ciutadania o amb personal de la Corporació Municipal influint-los i donant-los servei en el seu àmbit de competència.1472 TÈCNIC 3 SPEIS Família professional: Serveis de Prevenció i Extinció80.30.PE.50 Classificació Àmbit funcional Tipus de lloc Vinculació Subgrup d accés Destinació Sistema de provisió Classe de lloc Nivell Hay Directiu Comandament Tècnic Suport Gestió de Projectes Tècnic Funcionària Laboral Eventual A1 A2 C1 C2 E Lliure designació Lliure nomenament Concurs de mèrits Lloc de promoció Lloc base Categories TS SPEIS Esquema retributiu Destinació Complement específicCompetències Compromís professional Treball en equip Orientació a servei públic Pensament analític Recerca d informació i actualització de coneixement Flexibilitat i obertura a el canvi Autoconfiança Rigor i organització Comunicació i influència Empatia Visió global Lideratge i desenvolupament Confidencialitat Direcció de persones232NA NANA NA NA NA Missió Realitzar funcions complexes de caràcter tècnic pròpies de la seva família professional, en les matèries i processos que siguin competència de l òrgan on presten els seus serveis.\n",
      "\n"
     ]
    }
   ],
   "source": [
    "# Find cluster centroid\n",
    "for cluster in clusters:\n",
    "    degrees = [len(vertices[vertex]) for vertex in cluster]\n",
    "    centroid_id = cluster[degrees.index(max(degrees))]\n",
    "    cur.execute(\"SELECT Original FROM processed_documents WHERE Id = \" + str(centroid_id))\n",
    "    centroid = cur.fetchall()\n",
    "    doc = unicode(centroid[0][0], 'utf-8')\n",
    "    doc = doc.replace(\"( \", \" (\").replace(\"_\", \" \")\n",
    "    print doc\n",
    "    print ''"
   ]
  },
  {
   "cell_type": "code",
   "execution_count": 8,
   "metadata": {
    "collapsed": false
   },
   "outputs": [],
   "source": [
    "conn.close()"
   ]
  }
 ],
 "metadata": {
  "kernelspec": {
   "display_name": "Python 2",
   "language": "python",
   "name": "python2"
  },
  "language_info": {
   "codemirror_mode": {
    "name": "ipython",
    "version": 2
   },
   "file_extension": ".py",
   "mimetype": "text/x-python",
   "name": "python",
   "nbconvert_exporter": "python",
   "pygments_lexer": "ipython2",
   "version": "2.7.11"
  }
 },
 "nbformat": 4,
 "nbformat_minor": 0
}
