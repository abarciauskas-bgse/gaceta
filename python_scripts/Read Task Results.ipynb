{
 "cells": [
  {
   "cell_type": "code",
   "execution_count": 1,
   "metadata": {
    "collapsed": false
   },
   "outputs": [
    {
     "name": "stdout",
     "output_type": "stream",
     "text": [
      "{u'calibration': 0,\n",
      " u'created': u'2016-06-24T09:02:59.692012',\n",
      " u'id': 1415936,\n",
      " u'info': {u'doc1': u'In particular, participants took note of the upturn in orders and shipments of capital goods, and of more upbeat surveys of business conditions.',\n",
      "           u'doc1id': 480,\n",
      "           u'doc2': u'While the Committee saw uncertainty regarding the economic outlook as still elevated, it judged that, after this action, the upside risks to inflation roughly balanced the downside risks to growth.',\n",
      "           u'doc2id': 1181,\n",
      "           u'nw_score': -17,\n",
      "           u'question': u'Are these sentences redundant?'},\n",
      " u'n_answers': 30,\n",
      " u'priority_0': 0.0,\n",
      " u'project_id': 3986,\n",
      " u'quorum': 0,\n",
      " u'state': u'ongoing'}\n",
      "\n",
      "\n",
      "{u'calibration': None,\n",
      " u'created': u'2016-06-24T09:04:25.555895',\n",
      " u'finish_time': u'2016-06-24T09:04:40.632654',\n",
      " u'id': 2573062,\n",
      " u'info': u'No',\n",
      " u'project_id': 3986,\n",
      " u'task_id': 1415930,\n",
      " u'timeout': None,\n",
      " u'user_id': None,\n",
      " u'user_ip': u'95.23.19.171'}\n"
     ]
    }
   ],
   "source": [
    "import json\n",
    "from pprint import pprint\n",
    "import matplotlib.mlab as mlab\n",
    "import matplotlib.pyplot as plt\n",
    "import numpy as np\n",
    "\n",
    "tasks_filepath = '/Users/aimeebarciauskas/Projects/fomc_pybossa/results/fomc_task.json'\n",
    "results_filepath = '/Users/aimeebarciauskas/Projects/fomc_pybossa/results/fomc_task_run.json'\n",
    "\n",
    "with open(tasks_filepath) as data_file:    \n",
    "    tasks = {}\n",
    "    raw_tasks = json.load(data_file)\n",
    "    for task in raw_tasks:\n",
    "        task_id = task['id']\n",
    "        tasks[task_id] = task\n",
    "\n",
    "with open(results_filepath) as data_file:\n",
    "    results = json.load(data_file)\n",
    "\n",
    "pprint(tasks[tasks.keys()[0]])\n",
    "print(\"\\n\")\n",
    "pprint(results[0])"
   ]
  },
  {
   "cell_type": "code",
   "execution_count": 3,
   "metadata": {
    "collapsed": false
   },
   "outputs": [],
   "source": [
    "import enki\n",
    "import os\n",
    "\n",
    "# setup the server connection\n",
    "e = enki.Enki(api_key=os.environ['PYBOSSA_API_KEY'],\n",
    "                                 endpoint='http://crowdcrafting.org/',\n",
    "                                 project_short_name='fomc')\n",
    "# Get all completed tasks and its associated task runs\n",
    "e.get_all()"
   ]
  },
  {
   "cell_type": "code",
   "execution_count": 4,
   "metadata": {
    "collapsed": false
   },
   "outputs": [
    {
     "name": "stdout",
     "output_type": "stream",
     "text": [
      "Task id: 1415930\n",
      "Number of answers: 6\n",
      "Times of marked redundant: 6\n",
      "Top answer: No\n",
      "-14\n",
      "\n",
      "Task id: 1415931\n",
      "Number of answers: 6\n",
      "Times of marked redundant: 6\n",
      "Top answer: No\n",
      "-20\n",
      "\n",
      "Task id: 1415932\n",
      "Number of answers: 6\n",
      "Times of marked redundant: 4\n",
      "Top answer: No\n",
      "-15\n",
      "\n"
     ]
    }
   ],
   "source": [
    "for task in e.tasks[0:3]:\n",
    "    print 'Task id: ' + str(task.id)\n",
    "    num_answers = e.task_runs_df[task.id]['info'].count()\n",
    "    print 'Number of answers: ' + str(num_answers)\n",
    "    times_marked_redundant = e.task_runs_df[task.id]['info'].describe().freq\n",
    "    print 'Times of marked redundant: ' + str(times_marked_redundant)\n",
    "    top_answer = e.task_runs_df[task.id]['info'].describe().top\n",
    "    print 'Top answer: ' + str(top_answer)\n",
    "    print e.tasks_df['nw_score'][task.id]\n",
    "    print ''\n"
   ]
  },
  {
   "cell_type": "code",
   "execution_count": 5,
   "metadata": {
    "collapsed": false
   },
   "outputs": [
    {
     "name": "stdout",
     "output_type": "stream",
     "text": [
      "19\n",
      "21\n"
     ]
    }
   ],
   "source": [
    "# seperate into 1's and 0's\n",
    "redundant_nw_scores = []\n",
    "not_redundant_nw_scores = []\n",
    "for task in e.tasks:\n",
    "    top_answer = e.task_runs_df[task.id]['info'].describe().top\n",
    "    is_redundant = top_answer == 'Yes'\n",
    "    if is_redundant:\n",
    "        redundant_nw_scores.append(e.tasks_df['nw_score'][task.id])\n",
    "    else:\n",
    "        nw_score = e.tasks_df['nw_score'][task.id]\n",
    "        not_redundant_nw_scores.append(nw_score)\n",
    "\n",
    "print len(redundant_nw_scores)\n",
    "print len(not_redundant_nw_scores)"
   ]
  },
  {
   "cell_type": "code",
   "execution_count": 12,
   "metadata": {
    "collapsed": false
   },
   "outputs": [
    {
     "data": {
      "image/png": "[encoded data removed]",
      "text/plain": [
       "<matplotlib.figure.Figure at 0x109dbe1d0>"
      ]
     },
     "metadata": {},
     "output_type": "display_data"
    }
   ],
   "source": [
    "%matplotlib inline\n",
    "\n",
    "# the histogram of the data\n",
    "n, bins, patches = plt.hist(redundant_nw_scores, 5, normed=1, facecolor='green', alpha=0.75)\n",
    "mu_red = np.mean(redundant_nw_scores)\n",
    "sigma_red = np.std(redundant_nw_scores)\n",
    "plt.title(r'$\\mathrm{Histogram\\ of\\ marked\\ redundant\\ NW\\ scores:}\\ \\mu=' + str(mu_red) + ',\\ \\sigma=' + str(sigma_red) + '$')\n",
    "# Note: there is a value lower, ths has cut some extremes\n",
    "plt.grid(True)\n",
    "plt.plot()\n",
    "plt.savefig('marked_redundant_hist.png')"
   ]
  },
  {
   "cell_type": "code",
   "execution_count": 13,
   "metadata": {
    "collapsed": false
   },
   "outputs": [
    {
     "data": {
      "image/png": "[encoded data removed]",
      "text/plain": [
       "<matplotlib.figure.Figure at 0x107ba2d10>"
      ]
     },
     "metadata": {},
     "output_type": "display_data"
    }
   ],
   "source": [
    "%matplotlib inline\n",
    "\n",
    "# the histogram of the data\n",
    "n, bins, patches = plt.hist(not_redundant_nw_scores, 5, normed=1, facecolor='green', alpha=0.75)\n",
    "mu_nr = np.mean(not_redundant_nw_scores)\n",
    "sigma_nr = np.std(not_redundant_nw_scores)\n",
    "plt.title(r'$\\mathrm{Histogram\\ of\\ marked\\ not\\ redundant\\ NW\\ scores:}\\ \\mu='\n",
    "          + str(mu_nr) + ',\\ \\sigma=' + str(sigma_nr) + '$')\n",
    "# Note: there is a value lower, ths has cut some extremes\n",
    "plt.grid(True)\n",
    "plt.plot()\n",
    "plt.savefig('marked_not_redundant_hist.png')"
   ]
  },
  {
   "cell_type": "code",
   "execution_count": 74,
   "metadata": {
    "collapsed": false
   },
   "outputs": [
    {
     "name": "stdout",
     "output_type": "stream",
     "text": [
      "1 standard deviations below the mean for redundant docs: 2.16592825525\n",
      "1 standard deviations above the mean for not redundant docs: 5.32092450618\n"
     ]
    }
   ],
   "source": [
    "num_sds = 1\n",
    "print str(num_sds) + ' standard deviations below the mean for redundant docs: ' + str(mu_red - num_sds*sigma_red)\n",
    "print str(num_sds) + ' standard deviations above the mean for not redundant docs: ' + str(mu_nr + num_sds*sigma_nr)"
   ]
  }
 ],
 "metadata": {
  "kernelspec": {
   "display_name": "Python 2",
   "language": "python",
   "name": "python2"
  },
  "language_info": {
   "codemirror_mode": {
    "name": "ipython",
    "version": 2
   },
   "file_extension": ".py",
   "mimetype": "text/x-python",
   "name": "python",
   "nbconvert_exporter": "python",
   "pygments_lexer": "ipython2",
   "version": "2.7.11"
  }
 },
 "nbformat": 4,
 "nbformat_minor": 0
}
