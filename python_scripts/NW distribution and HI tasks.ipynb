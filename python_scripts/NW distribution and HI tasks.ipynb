{
 "cells": [
  {
   "cell_type": "markdown",
   "metadata": {},
   "source": [
    "## NW Alignment distributions for sentences\n",
    "\n",
    "* \"Documents\" stored are lists of lemmas extracted from sentences in each minutes/txt or SPLIT_NORM document\n",
    "* Catalan/English stop words removed\n",
    "* Named Entities replaced with tags \"QUANT, DATE, MISC, PER, LOC, ORG\"\n",
    "* The distribution is left-skewed, indicating most documents are relatively dissimilar.\n",
    "\n",
    "**Important note: These scores are not scaled by length of the documents. Similar documents which are long will have a much higher score than shorter documents which are similar. The opposite is also true: longer documents which are extremely dissimilary will have much lower scores than shorter documents which are dissimilar.**"
   ]
  },
  {
   "cell_type": "code",
   "execution_count": 5,
   "metadata": {
    "collapsed": false
   },
   "outputs": [],
   "source": [
    "import psycopg2\n",
    "import numpy as np\n",
    "import matplotlib.mlab as mlab\n",
    "import matplotlib.pyplot as plt\n",
    "import numpy as np\n",
    "import json\n",
    "\n",
    "database = 'fomc'\n",
    "conn = psycopg2.connect(\"dbname=\" + database + \" user=abarciauskas\")\n",
    "cur = conn.cursor()\n",
    "\n",
    "cur.execute(\"SELECT Doc1Id,Doc2Id,Score FROM alignments ORDER BY random()\")\n",
    "scores = cur.fetchall()"
   ]
  },
  {
   "cell_type": "code",
   "execution_count": 6,
   "metadata": {
    "collapsed": false
   },
   "outputs": [],
   "source": [
    "score_list = [score[2] for score in scores]\n",
    "# remove very different scores, this is heuristic\n",
    "# FIXME: make it not a heuristic but remove all those < -5 s.d.s or some such\n",
    "score_list = [item for item in score_list if item > -200]"
   ]
  },
  {
   "cell_type": "code",
   "execution_count": 7,
   "metadata": {
    "collapsed": false
   },
   "outputs": [
    {
     "data": {
      "image/png": "[encoded data removed]",
      "text/plain": [
       "<matplotlib.figure.Figure at 0x12b6e9310>"
      ]
     },
     "metadata": {},
     "output_type": "display_data"
    }
   ],
   "source": [
    "%matplotlib inline\n",
    "\n",
    "# the histogram of the data\n",
    "n, bins, patches = plt.hist(score_list, 100, normed=1, facecolor='green', alpha=0.75)\n",
    "mu = np.mean(score_list)\n",
    "sigma = np.std(score_list)\n",
    "plt.title(r'$\\mathrm{Histogram\\ of\\ NW scores:}\\ \\mu=' + str(mu) + ',\\ \\sigma=' + str(sigma) + '$')\n",
    "# Note: there is a value lower, ths has cut some extremes\n",
    "plt.axis([-200, 50, 0, 0.07])\n",
    "plt.grid(True)\n",
    "\n",
    "plt.show()"
   ]
  },
  {
   "cell_type": "code",
   "execution_count": 8,
   "metadata": {
    "collapsed": false
   },
   "outputs": [
    {
     "name": "stdout",
     "output_type": "stream",
     "text": [
      "ranges: [(-22, -8), (-8, 5), (5, 19), (19, 33)]\n",
      "Number of tasks collected: 40\n"
     ]
    }
   ],
   "source": [
    "# get 10 pairs from each 0 to +4 standard deviations from the mean\n",
    "sd_range = range(0,4)\n",
    "ranges = []\n",
    "for i in sd_range:\n",
    "    ranges.append((int(mu+i*sigma), int(mu+(i+1)*sigma)))\n",
    "\n",
    "print 'ranges: ' + str(ranges)\n",
    "sd_sets = dict((el,[]) for el in ranges)\n",
    "\n",
    "range_keys = sd_sets.keys()\n",
    "ranges = [range(x[0], x[1]) for x in range_keys]\n",
    "\n",
    "for score_tuple in scores:\n",
    "    docid1, docid2, score = score_tuple\n",
    "    bucket_idx = [i for i in range(len(ranges)) if score in ranges[i]]\n",
    "    if len(bucket_idx) == 1:\n",
    "        bucket_idx = bucket_idx[0]\n",
    "        sd_sets[range_keys[bucket_idx]].append([docid1,docid2,score])\n",
    "\n",
    "cur = conn.cursor()\n",
    "\n",
    "from pprint import pprint\n",
    "\n",
    "select_total = 10\n",
    "tasks = []\n",
    "question = \"Are these sentences redundant?\"\n",
    "for key in range_keys:\n",
    "    doc_pairs = sd_sets[key]\n",
    "    num_collected = 0  \n",
    "    for pair in doc_pairs:\n",
    "        score = pair[2]\n",
    "        doc1 = cur.execute(\"SELECT Id,TaggedLemmas,Original FROM processed_documents WHERE Id = \" + str(pair[0]))\n",
    "        doc1 = cur.fetchone()\n",
    "        lemmas1 = doc1[1]\n",
    "        doc2 = cur.execute(\"SELECT Id,TaggedLemmas,Original FROM processed_documents WHERE Id = \" + str(pair[1]))\n",
    "        doc2 = cur.fetchone()\n",
    "        lemmas2 = doc2[1]\n",
    "        max_len = max(len(lemmas1), len(lemmas2))\n",
    "        max_orig_len = max(len(doc1[2].split()), len(doc2[2].split()))\n",
    "        # remove objects which are or are nearly identical or are too long\n",
    "        if score/float(max_len) < 0.85 and max_orig_len <= 107:\n",
    "            num_collected = num_collected + 1\n",
    "            task = {\n",
    "                    'question': question,\n",
    "                    'doc1id': doc1[0],\n",
    "                    'doc1': doc1[2],\n",
    "                    'doc2id': doc2[0],\n",
    "                    'doc2': doc2[2],\n",
    "                    'nw_score': score\n",
    "                }\n",
    "            tasks.append(task)\n",
    "        if num_collected >= select_total: break\n",
    "\n",
    "print \"Number of tasks collected: \" + str(len(tasks))\n",
    "with open(database + \"_tasks.json\", \"w+\") as jsonfile:\n",
    "    json.dump(tasks, jsonfile, indent=4)"
   ]
  },
  {
   "cell_type": "code",
   "execution_count": 9,
   "metadata": {
    "collapsed": true
   },
   "outputs": [],
   "source": [
    "cur.close()\n",
    "conn.close()"
   ]
  }
 ],
 "metadata": {
  "kernelspec": {
   "display_name": "Python 2",
   "language": "python",
   "name": "python2"
  },
  "language_info": {
   "codemirror_mode": {
    "name": "ipython",
    "version": 2
   },
   "file_extension": ".py",
   "mimetype": "text/x-python",
   "name": "python",
   "nbconvert_exporter": "python",
   "pygments_lexer": "ipython2",
   "version": "2.7.11"
  }
 },
 "nbformat": 4,
 "nbformat_minor": 0
}
