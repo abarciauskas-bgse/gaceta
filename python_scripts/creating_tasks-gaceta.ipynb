{
 "cells": [
  {
   "cell_type": "code",
   "execution_count": 1,
   "metadata": {
    "collapsed": false
   },
   "outputs": [
    {
     "data": {
      "text/plain": [
       "['13-2007_59.txt', '13-2007_58.txt']"
      ]
     },
     "execution_count": 1,
     "metadata": {},
     "output_type": "execute_result"
    }
   ],
   "source": [
    "import psycopg2\n",
    "conn = psycopg2.connect(\"dbname=gaceta user=abarciauskas\")\n",
    "cur = conn.cursor()\n",
    "\n",
    "imported_files_query = cur.execute(\"SELECT distinct(FileName) FROM processed_documents limit 2;\")\n",
    "files = cur.fetchall()\n",
    "\n",
    "files = [f[0] for f in files]\n",
    "files[0:5]"
   ]
  },
  {
   "cell_type": "code",
   "execution_count": 2,
   "metadata": {
    "collapsed": false
   },
   "outputs": [],
   "source": [
    "import json\n",
    "\n",
    "# for every file, get all processed documents for that file and for each processed document write a line to the file\n",
    "tasks = []\n",
    "question = \"Are these sentences redundant?\"\n",
    "for filename in files:\n",
    "    docs_query = cur.execute(\"SELECT Id,Original FROM processed_documents WHERE FileName = '\" + filename + \"';\")\n",
    "    docs = cur.fetchall()\n",
    "    for i, doc1 in enumerate(docs):\n",
    "        for j, doc2 in enumerate(docs):\n",
    "            if j > i:\n",
    "                task = {\n",
    "                        'question': question,\n",
    "                        'doc1id': doc1[0],\n",
    "                        'doc1': doc1[1],\n",
    "                        'doc2id': doc2[0],\n",
    "                        'doc2': doc2[1],\n",
    "                        'filename': filename\n",
    "                    }\n",
    "                tasks.append(task)\n",
    "\n",
    "with open(\"tasks.json\", \"w\") as jsonfile:\n",
    "    json.dump(tasks, jsonfile)"
   ]
  },
  {
   "cell_type": "code",
   "execution_count": 3,
   "metadata": {
    "collapsed": true
   },
   "outputs": [],
   "source": [
    "cur.close()\n",
    "conn.close()"
   ]
  }
 ],
 "metadata": {
  "kernelspec": {
   "display_name": "Python 2",
   "language": "python",
   "name": "python2"
  },
  "language_info": {
   "codemirror_mode": {
    "name": "ipython",
    "version": 2
   },
   "file_extension": ".py",
   "mimetype": "text/x-python",
   "name": "python",
   "nbconvert_exporter": "python",
   "pygments_lexer": "ipython2",
   "version": "2.7.11"
  }
 },
 "nbformat": 4,
 "nbformat_minor": 0
}
