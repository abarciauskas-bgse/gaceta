{
 "cells": [
  {
   "cell_type": "code",
   "execution_count": 16,
   "metadata": {
    "collapsed": false
   },
   "outputs": [],
   "source": [
    "import json\n",
    "from pprint import pprint\n",
    "import matplotlib.mlab as mlab\n",
    "import matplotlib.pyplot as plt\n",
    "import numpy as np\n",
    "import enki\n",
    "import os"
   ]
  },
  {
   "cell_type": "code",
   "execution_count": 18,
   "metadata": {
    "collapsed": false
   },
   "outputs": [],
   "source": [
    "database = 'gaceta'\n",
    "\n",
    "# setup the server connection\n",
    "e = enki.Enki(api_key=os.environ['PYBOSSA_API_KEY'],\n",
    "                                 endpoint='http://crowdcrafting.org/',\n",
    "                                 project_short_name=database)\n",
    "# Get all completed tasks and its associated task runs\n",
    "e.get_all()"
   ]
  },
  {
   "cell_type": "code",
   "execution_count": 19,
   "metadata": {
    "collapsed": false
   },
   "outputs": [
    {
     "name": "stdout",
     "output_type": "stream",
     "text": [
      "Task id: 1415812\n",
      "Number of answers: 2\n",
      "Times of marked redundant: 2\n",
      "Top answer: Yes\n",
      "19\n",
      "\n",
      "Task id: 1415813\n",
      "Number of answers: 2\n",
      "Times of marked redundant: 2\n",
      "Top answer: Yes\n",
      "28\n",
      "\n",
      "Task id: 1415814\n",
      "Number of answers: 2\n",
      "Times of marked redundant: 2\n",
      "Top answer: Yes\n",
      "26\n",
      "\n"
     ]
    }
   ],
   "source": [
    "for task in e.tasks[0:3]:\n",
    "    print 'Task id: ' + str(task.id)\n",
    "    num_answers = e.task_runs_df[task.id]['info'].count()\n",
    "    print 'Number of answers: ' + str(num_answers)\n",
    "    times_marked_redundant = e.task_runs_df[task.id]['info'].describe().freq\n",
    "    print 'Times of marked redundant: ' + str(times_marked_redundant)\n",
    "    top_answer = e.task_runs_df[task.id]['info'].describe().top\n",
    "    print 'Top answer: ' + str(top_answer)\n",
    "    print e.tasks_df['nw_score'][task.id]\n",
    "    print ''\n"
   ]
  },
  {
   "cell_type": "code",
   "execution_count": 20,
   "metadata": {
    "collapsed": false
   },
   "outputs": [
    {
     "name": "stdout",
     "output_type": "stream",
     "text": [
      "17\n",
      "21\n"
     ]
    }
   ],
   "source": [
    "# seperate into 1's and 0's\n",
    "redundant_nw_scores = []\n",
    "not_redundant_nw_scores = []\n",
    "for task in e.tasks:\n",
    "    top_answer = e.task_runs_df[task.id]['info'].describe().top\n",
    "    is_redundant = top_answer == 'Yes'\n",
    "    if is_redundant:\n",
    "        redundant_nw_scores.append(e.tasks_df['nw_score'][task.id])\n",
    "    else:\n",
    "        nw_score = e.tasks_df['nw_score'][task.id]\n",
    "        not_redundant_nw_scores.append(nw_score)\n",
    "\n",
    "print len(redundant_nw_scores)\n",
    "print len(not_redundant_nw_scores)"
   ]
  },
  {
   "cell_type": "code",
   "execution_count": 25,
   "metadata": {
    "collapsed": false
   },
   "outputs": [
    {
     "data": {
      "image/png": "[encoded data removed]",
      "text/plain": [
       "<matplotlib.figure.Figure at 0x108445c90>"
      ]
     },
     "metadata": {},
     "output_type": "display_data"
    }
   ],
   "source": [
    "%matplotlib inline\n",
    "\n",
    "# the histogram of the data\n",
    "n, bins, patches = plt.hist(redundant_nw_scores, 5, normed=1, facecolor='blue', alpha=0.75)\n",
    "mu_red = np.mean(redundant_nw_scores)\n",
    "sigma_red = np.std(redundant_nw_scores)\n",
    "plt.title(r'$\\mathrm{Histogram\\ of\\ Marked\\ Redundant\\ NW\\ Scores:}\\ \\mu=' + str(mu_red) + ',\\ \\sigma=' + str(sigma_red) + '$')\n",
    "# Note: there is a value lower, ths has cut some extremes\n",
    "plt.grid(True)\n",
    "plt.plot()\n",
    "plt.savefig('marked_redundant_hist_' + database + '.png')"
   ]
  },
  {
   "cell_type": "code",
   "execution_count": 26,
   "metadata": {
    "collapsed": false
   },
   "outputs": [
    {
     "data": {
      "image/png": "[encoded data removed]",
      "text/plain": [
       "<matplotlib.figure.Figure at 0x10a68ac90>"
      ]
     },
     "metadata": {},
     "output_type": "display_data"
    }
   ],
   "source": [
    "%matplotlib inline\n",
    "\n",
    "# the histogram of the data\n",
    "n, bins, patches = plt.hist(not_redundant_nw_scores, 5, normed=1, facecolor='blue', alpha=0.75)\n",
    "mu_nr = np.mean(not_redundant_nw_scores)\n",
    "sigma_nr = np.std(not_redundant_nw_scores)\n",
    "plt.title(r'$\\mathrm{Histogram\\ of\\ Marked\\ Not\\ Redundant\\ NW\\ Scores:}\\ \\mu='\n",
    "          + str(mu_nr) + ',\\ \\sigma=' + str(sigma_nr) + '$')\n",
    "# Note: there is a value lower, ths has cut some extremes\n",
    "plt.grid(True)\n",
    "plt.plot()\n",
    "plt.savefig('marked_not_redundant_hist_' + database + '.png')"
   ]
  },
  {
   "cell_type": "code",
   "execution_count": 23,
   "metadata": {
    "collapsed": false
   },
   "outputs": [
    {
     "name": "stdout",
     "output_type": "stream",
     "text": [
      "1 standard deviations below the mean for redundant docs: 12.4580750307\n",
      "1 standard deviations above the mean for not redundant docs: 11.4066168491\n"
     ]
    }
   ],
   "source": [
    "num_sds = 1\n",
    "print str(num_sds) + ' standard deviations below the mean for redundant docs: ' + str(mu_red - num_sds*sigma_red)\n",
    "print str(num_sds) + ' standard deviations above the mean for not redundant docs: ' + str(mu_nr + num_sds*sigma_nr)"
   ]
  }
 ],
 "metadata": {
  "kernelspec": {
   "display_name": "Python 2",
   "language": "python",
   "name": "python2"
  },
  "language_info": {
   "codemirror_mode": {
    "name": "ipython",
    "version": 2
   },
   "file_extension": ".py",
   "mimetype": "text/x-python",
   "name": "python",
   "nbconvert_exporter": "python",
   "pygments_lexer": "ipython2",
   "version": "2.7.11"
  }
 },
 "nbformat": 4,
 "nbformat_minor": 0
}
