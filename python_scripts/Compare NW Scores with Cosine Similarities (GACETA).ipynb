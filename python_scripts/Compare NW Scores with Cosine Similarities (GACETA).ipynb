{
 "cells": [
  {
   "cell_type": "markdown",
   "metadata": {},
   "source": [
    "#### Comparing NW scores with Cosine Similarity\n",
    "\n",
    "Are there pairs with low NW scores but high cosine similarity? If so, it suggests redundant ideas which are not captured in alignment scores."
   ]
  },
  {
   "cell_type": "code",
   "execution_count": 1,
   "metadata": {
    "collapsed": false
   },
   "outputs": [
    {
     "data": {
      "text/plain": [
       "10000"
      ]
     },
     "execution_count": 1,
     "metadata": {},
     "output_type": "execute_result"
    }
   ],
   "source": [
    "import psycopg2\n",
    "import numpy as np\n",
    "import matplotlib.mlab as mlab\n",
    "import matplotlib.pyplot as plt\n",
    "import numpy as np\n",
    "import json\n",
    "import random\n",
    "\n",
    "database = 'gaceta'\n",
    "conn = psycopg2.connect(\"dbname=\" + database + \" user=abarciauskas\")\n",
    "cur = conn.cursor()\n",
    "\n",
    "cosine_threshold = 0.1\n",
    "sql = (\"SELECT Doc1Id,Doc2Id,NwScore,CosineSimilarity FROM alignments\")\n",
    "\n",
    "cur.execute(sql)\n",
    "\n",
    "alignments = cur.fetchall()\n",
    "sample_size = 10000\n",
    "rand_selection = [ alignments[i] for i in random.sample(xrange(len(alignments)), sample_size) ]\n",
    "len(rand_selection)"
   ]
  },
  {
   "cell_type": "code",
   "execution_count": 2,
   "metadata": {
    "collapsed": false
   },
   "outputs": [],
   "source": [
    "cosines = [float(alignment[3]) for alignment in rand_selection]\n",
    "nw_scores = [alignment[2] for alignment in rand_selection]"
   ]
  },
  {
   "cell_type": "code",
   "execution_count": 3,
   "metadata": {
    "collapsed": false
   },
   "outputs": [
    {
     "data": {
      "image/png": "[encoded data removed]",
      "text/plain": [
       "<matplotlib.figure.Figure at 0x103b0e190>"
      ]
     },
     "metadata": {},
     "output_type": "display_data"
    }
   ],
   "source": [
    "%matplotlib inline\n",
    "\n",
    "plt.scatter(nw_scores, cosines, alpha=0.1, color = 'blue')\n",
    "plt.title(r'$\\mathrm{NW\\ Scores\\ v\\ Cosine\\ Similarities\\ for\\ Gaceta Municipal}$')\n",
    "plt.plot()\n",
    "plt.savefig('nw_scores_v_cosine_sims_' + database + '.png')"
   ]
  }
 ],
 "metadata": {
  "kernelspec": {
   "display_name": "Python 2",
   "language": "python",
   "name": "python2"
  },
  "language_info": {
   "codemirror_mode": {
    "name": "ipython",
    "version": 2
   },
   "file_extension": ".py",
   "mimetype": "text/x-python",
   "name": "python",
   "nbconvert_exporter": "python",
   "pygments_lexer": "ipython2",
   "version": "2.7.11"
  }
 },
 "nbformat": 4,
 "nbformat_minor": 0
}
