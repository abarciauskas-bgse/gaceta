{
 "cells": [
  {
   "cell_type": "markdown",
   "metadata": {},
   "source": [
    "## NW Alignment distributions for sentences\n",
    "\n",
    "* \"Documents\" stored are lists of lemmas extracted from sentences in each SPLIT_NORM document\n",
    "  * Catalan stop words removed\n",
    "  * Named Entities replaced with tags \"QUANT, DATE, MISC, PER, LOC, ORG\"\n",
    "* Currently, there are stored 6734 documents from 2209 files (there are 13,116 total files)\n",
    "* Computing and storing intra-file Needleman-Wunsch scores (in alignments) finished in a reasonable time (~a minute)\n",
    "    * For these 2209 files, it calculated 23,421 scores\n",
    "* The distribution is left-skewed, indicating most documents are relatively dissimilar.\n",
    "\n",
    "Here is an example of a list of lemma's from 2 documents with a score of 10:\n",
    "\n",
    "* {que,en,el,termini,de,LN_m:6,ho,presentar,en,el,plenari_de_el_consell_municipal_de_l'_ajuntament_de_barcelona}\n",
    "* {que,en,el,termini,de,LN_m:6,ho,presentar,en,el,consell_plenari_de_l'_ajuntament_de_barcelona}\n",
    "\n",
    "**Important note: These scores are not scaled by length of the documents. Similar documents which are long will have a much higher score than shorter documents which are similar. The opposite is also true: longer documents which are extremely dissimilary will have much lower scores than shorter documents which are dissimilar.**"
   ]
  },
  {
   "cell_type": "code",
   "execution_count": 27,
   "metadata": {
    "collapsed": false
   },
   "outputs": [
    {
     "data": {
      "text/plain": [
       "(5240, 5241, -34)"
      ]
     },
     "execution_count": 27,
     "metadata": {},
     "output_type": "execute_result"
    }
   ],
   "source": [
    "import psycopg2\n",
    "conn = psycopg2.connect(\"dbname=testdb user=abarciauskas\")\n",
    "cur = conn.cursor()\n",
    "\n",
    "cur.execute(\"SELECT Doc1Id,Doc2Id,Score FROM alignments\")\n",
    "scores = cur.fetchall()\n",
    "cur.close()\n",
    "conn.close()\n",
    "scores[0]"
   ]
  },
  {
   "cell_type": "code",
   "execution_count": 28,
   "metadata": {
    "collapsed": false
   },
   "outputs": [
    {
     "name": "stdout",
     "output_type": "stream",
     "text": [
      "23421\n",
      "23226\n"
     ]
    }
   ],
   "source": [
    "score_list = [score[2] for score in scores]\n",
    "print(len(score_list))\n",
    "score_list = [item for item in score_list if item > -200]\n",
    "print(len(score_list))"
   ]
  },
  {
   "cell_type": "code",
   "execution_count": 29,
   "metadata": {
    "collapsed": false
   },
   "outputs": [
    {
     "data": {
      "image/png": "[encoded data removed]",
      "text/plain": [
       "<matplotlib.figure.Figure at 0x106c40a50>"
      ]
     },
     "metadata": {},
     "output_type": "display_data"
    }
   ],
   "source": [
    "%matplotlib inline\n",
    "\n",
    "import numpy as np\n",
    "import matplotlib.mlab as mlab\n",
    "import matplotlib.pyplot as plt\n",
    "\n",
    "# the histogram of the data\n",
    "n, bins, patches = plt.hist(score_list, 100, normed=1, facecolor='green', alpha=0.75)\n",
    "mu = np.mean(score_list)\n",
    "sigma = np.std(score_list)\n",
    "plt.title(r'$\\mathrm{Histogram\\ of\\ NW scores:}\\ \\mu=' + str(mu) + ',\\ \\sigma=' + str(sigma) + '$')\n",
    "# Note: there is a value lower, ths has cut some extremes\n",
    "plt.axis([-200, 50, 0, 0.062])\n",
    "plt.grid(True)\n",
    "\n",
    "plt.show()"
   ]
  },
  {
   "cell_type": "code",
   "execution_count": 30,
   "metadata": {
    "collapsed": false
   },
   "outputs": [
    {
     "data": {
      "text/plain": [
       "(5240, 5241, -34)"
      ]
     },
     "execution_count": 30,
     "metadata": {},
     "output_type": "execute_result"
    }
   ],
   "source": [
    "scores[0]"
   ]
  },
  {
   "cell_type": "code",
   "execution_count": 74,
   "metadata": {
    "collapsed": false
   },
   "outputs": [
    {
     "name": "stdout",
     "output_type": "stream",
     "text": [
      "----------------\n",
      "Key is: (-15, 7)\n",
      "\n",
      "Doc1 Lemmas: (['es', 'anar', 'produir', 'robatori', 'interior', 'gimn\\xc3\\xa0s', 'reclamar', 'anar', 'sostreure', 'divers', 'objecte', 'NP', 'que', 'abonar', 'import', 'QUANT', 'total'],)\n",
      "Doc2 Lemmas: (['laude', 'es', 'estimar', 'abonar', 'reclamar', 'QUANT', 'import', 'material', 'sostreure', 'considerar', 'que', 'gimn\\xc3\\xa0s', 'haver', 'tenir'],)\n",
      "\n",
      "Doc1 Lemmas: (['NP', 'DATE', 'DATE', 'NP', 'DATE', 'es', 'reunir', 'NP', 'NP', 'NP', 'actuar', 'NP', 'DATE', 'NP', 'NP', 'NP'],)\n",
      "Doc2 Lemmas: (['NP', 'NP', 'NP', 'NP', 'NP', 'NP', 'NP', 'NP', 'NP', 'NP', 'NP', 'NP', 'NP'],)\n",
      "\n",
      "Doc1 Lemmas: (['NP', 'DATE', 'DATE', 'NP', 'DATE', 'es', 'reunir', 'NP', 'NP', 'NP', 'actuar', 'NP', 'DATE', 'NP', 'NP', 'NP'],)\n",
      "Doc2 Lemmas: (['es', 'donar', 'PER', 'DATE', 'esborrany', 'haver', 'ser', 'trametre', 'membre', 'NP', 'es', 'aprovar'],)\n",
      "\n",
      "Doc1 Lemmas: (['NP', 'DATE', 'DATE', 'NP', 'DATE', 'es', 'reunir', 'NP', 'NP', 'NP', 'actuar', 'NP', 'DATE', 'NP', 'NP', 'NP'],)\n",
      "Doc2 Lemmas: (['NP', 'NP', 'ofici', 'compliment', 'article', 'QUANT', 'NP', 'es', 'comunicar', 'seg\\xc3\\xbcent', 'QUANT'],)\n",
      "\n",
      "Doc1 Lemmas: (['NP', 'DATE', 'DATE', 'NP', 'DATE', 'es', 'reunir', 'NP', 'NP', 'NP', 'actuar', 'NP', 'DATE', 'NP', 'NP', 'NP'],)\n",
      "Doc2 Lemmas: (['NP', 'DATE', 'que', 'nomenar', 'senyor', 'NP', 'NP', 'acord', 'preveure', 'article', 'QUANT', 'NP', 'QUANT', 'NP', 'NP', 'NP', 'representant', 'PER', 'NP', 'NP', 'NP'],)\n",
      "\n",
      "Doc1 Lemmas: (['NP', 'DATE', 'DATE', 'NP', 'DATE', 'es', 'reunir', 'NP', 'NP', 'NP', 'actuar', 'NP', 'DATE', 'NP', 'NP', 'NP'],)\n",
      "Doc2 Lemmas: (['NP', 'DATE', 'QUANT', 'QUANT', 'que', 'crear', 'NP', 'NP', 'NP', 'NP'],)\n",
      "\n",
      "Doc1 Lemmas: (['NP', 'DATE', 'DATE', 'NP', 'DATE', 'es', 'reunir', 'NP', 'NP', 'NP', 'actuar', 'NP', 'DATE', 'NP', 'NP', 'NP'],)\n",
      "Doc2 Lemmas: (['adscriure', 'lloc', 'QUANT', 'treball', 'NP', 'NP', 'NP', 'NP', 'QUANT'],)\n",
      "\n",
      "Doc1 Lemmas: (['NP', 'DATE', 'DATE', 'NP', 'DATE', 'es', 'reunir', 'NP', 'NP', 'NP', 'actuar', 'NP', 'DATE', 'NP', 'NP', 'NP'],)\n",
      "Doc2 Lemmas: (['NP', 'DATE', 'QUANT', 'QUANT', 'que', 'modificar', 'NP', 'NP', 'NP', 'NP', 'adscriure', 'NP'],)\n",
      "\n",
      "Doc1 Lemmas: (['NP', 'DATE', 'DATE', 'NP', 'DATE', 'es', 'reunir', 'NP', 'NP', 'NP', 'actuar', 'NP', 'DATE', 'NP', 'NP', 'NP'],)\n",
      "Doc2 Lemmas: (['NP', 'DATE', 'QUANT', 'QUANT', 'que', 'nomenar', 'NP', 'NP', 'NP', 'col\\xc2\\xb7laborador', 'NP', 'NP'],)\n",
      "\n",
      "Doc1 Lemmas: (['conc\\xc3\\xb3rrer', 'NP', 'NP', 'NP', 'NP'],)\n",
      "Doc2 Lemmas: (['NP', 'NP', 'NP', 'NP', 'NP', 'NP', 'NP', 'NP', 'NP', 'NP', 'NP', 'NP', 'NP'],)\n",
      "\n",
      "----------------\n",
      "Key is: (-83, -60)\n",
      "\n",
      "Doc1 Lemmas: (['NP', 'QUANT', 'NP', 'gerent', 'NP', 'DATE', 'NP', 'NP', 'NP', 'DATE', 'es', 'convocar', 'personal', 'NP', 'lloc', 'treball', 'que', 'constar', 'PER', 'acord', 'que', 'es', 'indicar', 'PER', 'requisit', 'com\\xc3\\xba', 'que', 'es', 'fixar', 'NP', 'part', 'requisit', 'addicional', 'concurs', 'optar', 'ser', 'PER', 'NP', 'servei', 'PER', 'NP', 'NP', 'pert\\xc3\\xa0nyer', 'NP', 'NP', 'NP', 'NP', 'NP'],)\n",
      "Doc2 Lemmas: (['NP', 'personal', 'funcionari', 'contractar', 'PER', 'PER', 'NP'],)\n",
      "\n",
      "Doc1 Lemmas: (['NP', 'NP', 'DATE', 'NP', 'NP', 'DATE', 'es', 'convocar', 'concurs', 'lloc', 'treball', 'NP', 'que', 'constar', 'PER', 'acord', 'que', 'es', 'indicar', 'requisit', 'com\\xc3\\xba', 'que', 'es', 'fixar', 'NP', 'part', 'requisit', 'addicional', 'concurs', 'optar', 'ser', 'PER', 'NP', 'servei', 'PER', 'NP', 'NP', 'pert\\xc3\\xa0nyer', 'NP', 'NP', 'NP', 'NP', 'NP'],)\n",
      "Doc2 Lemmas: (['NP', 'personal', 'funcionari', 'contractar', 'PER', 'PER', 'NP', 'NP'],)\n",
      "\n",
      "Doc1 Lemmas: (['NP', 'decret', 'NP', 'NP', 'NP', 'NP', 'DATE', 'es', 'convocar', 'personal', 'NP', 'lloc', 'treball', 'que', 'constar', 'PER', 'acord', 'que', 'es', 'indicar', 'PER', 'PER', 'requisit', 'com\\xc3\\xba', 'que', 'es', 'fixar', 'NP', 'part', 'requisit', 'addicional', 'concurs', 'optar', 'ser', 'PER', 'NP', 'servei', 'PER', 'NP', 'NP', 'pert\\xc3\\xa0nyer', 'NP', 'NP', 'NP', 'NP', 'NP'],)\n",
      "Doc2 Lemmas: (['NP', 'personal', 'funcionari', 'contractar', 'PER', 'PER', 'NP'],)\n",
      "\n",
      "Doc1 Lemmas: (['acord', '\\xc3\\xb2rgan', 'govern', 'NP', 'QUANT', 'NP', 'NP', 'DATE', 'NP', 'DATE', 'haver', 'acordar', 'aprovar', 'preu', 'p\\xc3\\xbablic', 'any', 'QUANT', 'equipament', 'NP'],)\n",
      "Doc2 Lemmas: (['NP', 'PER', 'NP', 'QUANT', 'QUANT', 'any', 'QUANT', 'infant', 'NP', 'QUANT', 'QUANT', 'any', 'QUANT', 'infant', 'QUANT', 'germ\\xc3\\xa0', 'QUANT', 'germ\\xc3\\xa0', 'QUANT', 'NP', 'PER', 'NP', 'QUANT', 'QUANT', 'any', 'QUANT', 'infant', 'NP', 'QUANT', 'QUANT', 'any', 'QUANT', 'infant', 'QUANT', 'germ\\xc3\\xa0', 'QUANT', 'germ\\xc3\\xa0', 'QUANT', 'NP', 'QUANT', 'NP', 'NP', 'DATE', 'NP', 'DATE', 'haver', 'acordar', 'aprovar', 'preu', 'p\\xc3\\xbablic', 'any', 'QUANT', 'centre', 'c\\xc3\\xadvic', 'cultural', 'NP'],)\n",
      "\n",
      "Doc1 Lemmas: (['NP', 'PER', 'QUANT', 'infant', 'QUANT', 'germ\\xc3\\xa0', 'QUANT', 'germ\\xc3\\xa0', 'NP', 'QUANT', 'QUANT', 'any', 'QUANT', 'jove', 'NP', 'casal', 'PER', 'ser', 'PER'],)\n",
      "Doc2 Lemmas: (['NP', 'PER', 'NP', 'QUANT', 'QUANT', 'any', 'QUANT', 'infant', 'NP', 'QUANT', 'QUANT', 'any', 'QUANT', 'infant', 'QUANT', 'germ\\xc3\\xa0', 'QUANT', 'germ\\xc3\\xa0', 'QUANT', 'NP', 'PER', 'NP', 'QUANT', 'QUANT', 'any', 'QUANT', 'infant', 'NP', 'QUANT', 'QUANT', 'any', 'QUANT', 'infant', 'QUANT', 'germ\\xc3\\xa0', 'QUANT', 'germ\\xc3\\xa0', 'QUANT', 'NP', 'QUANT', 'NP', 'NP', 'DATE', 'NP', 'DATE', 'haver', 'acordar', 'aprovar', 'preu', 'p\\xc3\\xbablic', 'any', 'QUANT', 'centre', 'c\\xc3\\xadvic', 'cultural', 'NP'],)\n",
      "\n",
      "Doc1 Lemmas: (['DATE', 'DATE', 'NP', 'NP', 'DATE', 'es', 'reunir', 'NP', 'NP', 'NP', 'NP'],)\n",
      "Doc2 Lemmas: (['NP', 'NP', 'NP', 'NP', 'NP', 'NP', 'NP', 'NP', 'NP', 'NP', 'NP', 'NP', 'NP', 'NP', 'NP', 'NP', 'NP', 'NP', 'NP', 'NP', 'NP', 'NP', 'NP', 'NP', 'NP', 'NP', 'NP', 'NP', 'NP', 'NP', 'NP', 'NP', 'NP', 'NP', 'NP', 'NP', 'NP', 'assistir', 'secretari', 'PER', 'NP', 'NP', 'que', 'certificar'],)\n",
      "\n",
      "Doc1 Lemmas: (['acord', '\\xc3\\xb2rgan', 'govern', 'NP', 'NP', 'aprovar', 'acord', 'NP', 'DATE', 'NP', 'DATE', 'acordar', 'aprovar', 'preu', 'p\\xc3\\xbablic', 'any', 'QUANT', 'bar', 'casal', 'PER', 'NP', 'NP', 'NP'],)\n",
      "Doc2 Lemmas: (['NP', 'NP', 'descafe\\xc3\\xafnar', 'NP', 'PER', 'NP', 'descafe\\xc3\\xafntat', 'NP', 'PER', 'NP', 'descafe\\xc3\\xafnar', 'NP', 'NP', 'QUANT', 'NP', 'NP', 'NP', 'taronja', 'NP', 'NP', 'cacau', 'NP', 'mineral', 'gas', 'NP', 'mineral', 'gas', 'NP', 'NP', 'NP', 'NP', 'QUANT', 'QUANT', 'preu', 'carajillo', 'conyac', 'an\\xc3\\xads', 'carajillos', 'NP', 'alcohol', 'bitter', 'alcohol', 'vermut', 'got', 'vi', 'most', 'ra\\xc3\\xafm', 'moscatell', 'conyac', 'conyac', 'licor', 'cuba', 'libre', 'whisky', 'tapa', 'lliure', 'preu', 'mercat'],)\n",
      "\n",
      "Doc1 Lemmas: (['NP', 'NP', 'QUANT', 'membre', 'es', 'detallar', 'NP', 'NP', 'NP', 'NP', 'NP', 'NP', 'NP', 'NP', 'NP', 'NP', 'NP', 'NP', 'representant', 'NP', 'NP', 'NP', 'NP', 'representant', 'NP', 'NP', 'NP', 'NP', 'NP', 'NP', 'NP', 'NP', 'NP', 'NP', 'NP', 'NP', 'NP', 'NP', 'NP', 'g\\xc3\\xa8nere', 'NP', 'NP', 'NP', 'programa', 'NP'],)\n",
      "Doc2 Lemmas: (['NP', 'DATE', 'NP', 'donar', 'PER', 'DATE', 'esborrany', 'haver', 'ser', 'membre', 'NP'],)\n",
      "\n",
      "Doc1 Lemmas: (['NP', 'PER', 'acordar', 'restar', 'assabentar', 'decret', 'nomenament', 'membre', 'NP', 'conseller', 'NP', 'NP', 'NP', 'NP', 'NP', 'NP', 'NP', 'NP', 'NP', 'NP', 'NP', 'NP', 'acord', 'article', 'QUANT', 'NP', 'funcionament', 'NP', 'article', 'QUANT', 'NP', 'PER', 'funcionament', 'NP', 'donar', 'compte', 'NP'],)\n",
      "Doc2 Lemmas: (['delegar', 'NP', 'NP', 'conseller', 'NP', 'NP'],)\n",
      "\n",
      "Doc1 Lemmas: (['NP', 'PER', 'acordar', 'restar', 'assabentar', 'decret', 'nomenament', 'membre', 'NP', 'conseller', 'NP', 'NP', 'NP', 'NP', 'NP', 'NP', 'NP', 'NP', 'NP', 'NP', 'NP', 'NP', 'acord', 'article', 'QUANT', 'NP', 'funcionament', 'NP', 'article', 'QUANT', 'NP', 'PER', 'funcionament', 'NP', 'donar', 'compte', 'NP'],)\n",
      "Doc2 Lemmas: (['donar', 'compte', 'PER', 'NP'],)\n",
      "\n",
      "----------------\n",
      "Key is: (-60, -37)\n",
      "\n",
      "Doc1 Lemmas: (['conc\\xc3\\xb3rrer', 'NP', 'NP', 'NP', 'NP'],)\n",
      "Doc2 Lemmas: (['NP', 'NP', 'NP', 'NP', 'NP', 'NP', 'NP', 'NP', 'NP', 'NP', 'NP', 'NP', 'NP', 'NP', 'NP', 'NP', 'NP', 'NP', 'NP', 'NP', 'NP', 'NP', 'NP', 'NP', 'NP', 'NP', 'NP', 'NP', 'NP', 'NP', 'NP', 'NP', 'NP'],)\n",
      "\n",
      "Doc1 Lemmas: (['conc\\xc3\\xb3rrer', 'NP', 'NP', 'NP', 'NP'],)\n",
      "Doc2 Lemmas: (['NP', 'NP', 'NP', 'NP', 'NP', 'NP', 'NP', 'NP', 'NP', 'NP', 'NP', 'NP', 'NP', 'NP', 'NP', 'NP', 'NP', 'NP', 'NP', 'NP', 'NP', 'NP', 'NP', 'NP', 'assistir', 'NP', 'NP', 'NP', 'que', 'certificar'],)\n",
      "\n",
      "Doc1 Lemmas: (['NP', 'NP', 'NP', 'NP', 'NP', 'NP', 'NP', 'NP', 'NP', 'NP', 'NP', 'NP', 'NP', 'NP', 'NP', 'NP', 'NP', 'NP', 'NP', 'NP', 'NP', 'NP', 'NP', 'NP', 'NP', 'NP', 'NP', 'NP', 'NP', 'NP', 'NP', 'NP', 'NP'],)\n",
      "Doc2 Lemmas: (['ser', 'PER', 'NP', 'NP', 'NP'],)\n",
      "\n",
      "Doc1 Lemmas: (['NP', 'NP', 'NP', 'NP', 'NP', 'NP', 'NP', 'NP', 'NP', 'NP', 'NP', 'NP', 'NP', 'NP', 'NP', 'NP', 'NP', 'NP', 'NP', 'NP', 'NP', 'NP', 'NP', 'NP', 'NP', 'NP', 'NP', 'NP', 'NP', 'NP', 'NP', 'NP', 'NP'],)\n",
      "Doc2 Lemmas: (['qu\\xc3\\xb2rum', 'PER', 'NP', 'obrir', 'QUANT'],)\n",
      "\n",
      "Doc1 Lemmas: (['NP', 'NP', 'NP', 'NP', 'NP', 'NP', 'NP', 'NP', 'NP', 'NP', 'NP', 'NP', 'NP', 'NP', 'NP', 'NP', 'NP', 'NP', 'NP', 'NP', 'NP', 'NP', 'NP', 'NP', 'NP', 'NP', 'NP', 'NP', 'NP', 'NP', 'NP', 'NP', 'NP'],)\n",
      "Doc2 Lemmas: (['es', 'donar', 'PER', 'DATE', 'esborrany', 'haver', 'ser', 'trametre', 'membre', 'NP', 'es', 'aprovar'],)\n",
      "\n",
      "Doc1 Lemmas: (['NP', 'NP', 'NP', 'NP', 'NP', 'NP', 'NP', 'NP', 'NP', 'NP', 'NP', 'NP', 'NP', 'NP', 'NP', 'NP', 'NP', 'NP', 'NP', 'NP', 'NP', 'NP', 'NP', 'NP', 'NP', 'NP', 'NP', 'NP', 'NP', 'NP', 'NP', 'NP', 'NP'],)\n",
      "Doc2 Lemmas: (['NP', 'NP', 'ofici', 'compliment', 'article', 'QUANT', 'NP', 'es', 'comunicar', 'seg\\xc3\\xbcent', 'QUANT'],)\n",
      "\n",
      "Doc1 Lemmas: (['NP', 'NP', 'NP', 'NP', 'NP', 'NP', 'NP', 'NP', 'NP', 'NP', 'NP', 'NP', 'NP', 'NP', 'NP', 'NP', 'NP', 'NP', 'NP', 'NP', 'NP', 'NP', 'NP', 'NP', 'NP', 'NP', 'NP', 'NP', 'NP', 'NP', 'NP', 'NP', 'NP'],)\n",
      "Doc2 Lemmas: (['NP', 'DATE', 'QUANT', 'QUANT', 'que', 'crear', 'NP', 'adscriure', 'NP'],)\n",
      "\n",
      "Doc1 Lemmas: (['NP', 'NP', 'NP', 'NP', 'NP', 'NP', 'NP', 'NP', 'NP', 'NP', 'NP', 'NP', 'NP', 'NP', 'NP', 'NP', 'NP', 'NP', 'NP', 'NP', 'NP', 'NP', 'NP', 'NP', 'NP', 'NP', 'NP', 'NP', 'NP', 'NP', 'NP', 'NP', 'NP'],)\n",
      "Doc2 Lemmas: (['NP', 'DATE', 'QUANT', 'QUANT', 'que', 'crear', 'NP', 'NP', 'NP', 'NP'],)\n",
      "\n",
      "Doc1 Lemmas: (['NP', 'NP', 'NP', 'NP', 'NP', 'NP', 'NP', 'NP', 'NP', 'NP', 'NP', 'NP', 'NP', 'NP', 'NP', 'NP', 'NP', 'NP', 'NP', 'NP', 'NP', 'NP', 'NP', 'NP', 'NP', 'NP', 'NP', 'NP', 'NP', 'NP', 'NP', 'NP', 'NP'],)\n",
      "Doc2 Lemmas: (['adscriure', 'NP', 'NP', 'lloc', 'treball', 'NP', 'NP'],)\n",
      "\n",
      "Doc1 Lemmas: (['NP', 'NP', 'NP', 'NP', 'NP', 'NP', 'NP', 'NP', 'NP', 'NP', 'NP', 'NP', 'NP', 'NP', 'NP', 'NP', 'NP', 'NP', 'NP', 'NP', 'NP', 'NP', 'NP', 'NP', 'NP', 'NP', 'NP', 'NP', 'NP', 'NP', 'NP', 'NP', 'NP'],)\n",
      "Doc2 Lemmas: (['adscriure', 'lloc', 'QUANT', 'treball', 'NP', 'NP', 'NP', 'NP', 'QUANT'],)\n",
      "\n",
      "----------------\n",
      "Key is: (-37, -15)\n",
      "\n",
      "Doc1 Lemmas: (['NP', 'NP', 'DATE', 'DATE', 'NP', 'DATE', 'es', 'reunir', 'NP', 'NP', 'NP'],)\n",
      "Doc2 Lemmas: (['NP', 'NP', 'NP', 'NP', 'NP', 'NP', 'NP', 'NP', 'NP', 'NP', 'NP', 'NP', 'NP', 'NP', 'NP', 'NP', 'NP', 'NP', 'NP', 'NP', 'assistir', 'secretari', 'PER', 'NP', 'NP', 'NP', 'que', 'certificar'],)\n",
      "\n",
      "Doc1 Lemmas: (['NP', 'DATE', 'NP', 'DATE'],)\n",
      "Doc2 Lemmas: (['NP', 'control', 'NP', 'NP', 'fer', 'constar', 'que', 'NP', 'NP', 'que', 'es', 'transcriure', 'tenir', 'acte', 'impuls', 'PER', 'govern', 'produir', 'efecte', 'jur\\xc3\\xaddic', 'acte', 'administratiu', 'resolutori'],)\n",
      "\n",
      "Doc1 Lemmas: (['NP', 'DATE', 'DATE', 'NP', 'DATE', 'es', 'reunir', 'NP', 'NP', 'NP', 'actuar', 'NP', 'DATE', 'NP', 'NP', 'NP'],)\n",
      "Doc2 Lemmas: (['conc\\xc3\\xb3rrer', 'NP', 'NP', 'NP', 'NP'],)\n",
      "\n",
      "Doc1 Lemmas: (['NP', 'DATE', 'DATE', 'NP', 'DATE', 'es', 'reunir', 'NP', 'NP', 'NP', 'actuar', 'NP', 'DATE', 'NP', 'NP', 'NP'],)\n",
      "Doc2 Lemmas: (['NP', 'NP', 'NP', 'NP', 'NP', 'NP', 'NP', 'NP', 'NP', 'NP', 'NP', 'NP', 'NP', 'NP', 'NP', 'NP', 'NP', 'NP', 'NP', 'NP', 'NP', 'NP', 'NP', 'NP', 'NP', 'NP', 'NP', 'NP', 'NP', 'NP', 'NP', 'NP', 'NP'],)\n",
      "\n",
      "Doc1 Lemmas: (['NP', 'DATE', 'DATE', 'NP', 'DATE', 'es', 'reunir', 'NP', 'NP', 'NP', 'actuar', 'NP', 'DATE', 'NP', 'NP', 'NP'],)\n",
      "Doc2 Lemmas: (['NP', 'NP', 'NP', 'NP', 'NP', 'NP', 'NP', 'NP', 'NP', 'NP', 'NP', 'NP', 'NP', 'NP', 'NP', 'NP', 'NP', 'NP', 'NP', 'NP', 'NP', 'NP', 'NP', 'NP', 'assistir', 'NP', 'NP', 'NP', 'que', 'certificar'],)\n",
      "\n",
      "Doc1 Lemmas: (['NP', 'DATE', 'DATE', 'NP', 'DATE', 'es', 'reunir', 'NP', 'NP', 'NP', 'actuar', 'NP', 'DATE', 'NP', 'NP', 'NP'],)\n",
      "Doc2 Lemmas: (['ser', 'PER', 'NP', 'NP', 'NP'],)\n",
      "\n",
      "Doc1 Lemmas: (['NP', 'DATE', 'DATE', 'NP', 'DATE', 'es', 'reunir', 'NP', 'NP', 'NP', 'actuar', 'NP', 'DATE', 'NP', 'NP', 'NP'],)\n",
      "Doc2 Lemmas: (['qu\\xc3\\xb2rum', 'PER', 'NP', 'obrir', 'QUANT'],)\n",
      "\n",
      "Doc1 Lemmas: (['NP', 'DATE', 'DATE', 'NP', 'DATE', 'es', 'reunir', 'NP', 'NP', 'NP', 'actuar', 'NP', 'DATE', 'NP', 'NP', 'NP'],)\n",
      "Doc2 Lemmas: (['NP', 'DATE', 'QUANT', 'QUANT', 'que', 'crear', 'NP', 'adscriure', 'NP'],)\n",
      "\n",
      "Doc1 Lemmas: (['NP', 'DATE', 'DATE', 'NP', 'DATE', 'es', 'reunir', 'NP', 'NP', 'NP', 'actuar', 'NP', 'DATE', 'NP', 'NP', 'NP'],)\n",
      "Doc2 Lemmas: (['adscriure', 'NP', 'NP', 'lloc', 'treball', 'NP', 'NP'],)\n",
      "\n",
      "Doc1 Lemmas: (['NP', 'DATE', 'DATE', 'NP', 'DATE', 'es', 'reunir', 'NP', 'NP', 'NP', 'actuar', 'NP', 'DATE', 'NP', 'NP', 'NP'],)\n",
      "Doc2 Lemmas: (['adscriure', 'NP', 'NP', 'NP'],)\n",
      "\n",
      "----------------\n",
      "Key is: (7, 29)\n",
      "\n",
      "Doc1 Lemmas: (['NP', 'NP', 'NP', 'NP', 'NP', 'NP', 'NP', 'NP', 'NP', 'NP', 'NP', 'NP', 'NP', 'NP', 'NP', 'NP', 'NP', 'NP', 'NP', 'NP', 'NP', 'NP', 'NP', 'NP', 'NP', 'NP', 'NP', 'NP', 'NP', 'NP', 'NP', 'NP', 'NP'],)\n",
      "Doc2 Lemmas: (['NP', 'NP', 'NP', 'NP', 'NP', 'NP', 'NP', 'NP', 'NP', 'NP', 'NP', 'NP', 'NP', 'NP', 'NP', 'NP', 'NP', 'NP', 'NP', 'NP', 'NP', 'NP', 'NP', 'NP', 'assistir', 'NP', 'NP', 'NP', 'que', 'certificar'],)\n",
      "\n",
      "Doc1 Lemmas: (['crear', 'NP', 'adscriure', 'NP', 'assignar', 'lloc', 'PER', 'QUANT', 'PER', 'NP', 'que', 'es', 'detallar', 'annex'],)\n",
      "Doc2 Lemmas: (['crear', 'NP', 'adscriure', 'NP', 'assignar', 'lloc', 'PER', 'QUANT', 'PER', 'NP', 'que', 'es', 'detallar', 'annex'],)\n",
      "\n",
      "Doc1 Lemmas: (['crear', 'NP', 'adscriure', 'NP', 'assignar', 'lloc', 'PER', 'QUANT', 'PER', 'NP', 'que', 'es', 'detallar', 'annex'],)\n",
      "Doc2 Lemmas: (['crear', 'NP', 'adscriure', 'NP', 'assignar', 'lloc', 'PER', 'QUANT', 'PER', 'NP', 'que', 'es', 'detallar', 'annex'],)\n",
      "\n",
      "Doc1 Lemmas: (['crear', 'NP', 'adscriure', 'NP', 'assignar', 'lloc', 'PER', 'QUANT', 'PER', 'NP', 'que', 'es', 'detallar', 'annex'],)\n",
      "Doc2 Lemmas: (['crear', 'NP', 'adscriure', 'NP', 'assignar', 'lloc', 'PER', 'QUANT', 'PER', 'NP', 'que', 'es', 'detallar', 'annex'],)\n",
      "\n",
      "Doc1 Lemmas: (['ingr\\xc3\\xa9s', 'procedent', 'QUANT', 'NP', 'QUANT', 'NP', 'QUANT', 'QUANT', 'QUANT', 'PER', 'part', 'NP', 'NP', 'DATE'],)\n",
      "Doc2 Lemmas: (['ingr\\xc3\\xa9s', 'procedent', 'QUANT', 'NP', 'QUANT', 'NP', 'QUANT', 'QUANT', 'QUANT', 'PER', 'part', 'NP', 'NP', 'DATE'],)\n",
      "\n",
      "Doc1 Lemmas: (['ingr\\xc3\\xa9s', 'procedent', 'QUANT', 'NP', 'QUANT', 'NP', 'QUANT', 'QUANT', 'QUANT', 'PER', 'part', 'NP', 'NP', 'DATE'],)\n",
      "Doc2 Lemmas: (['ingr\\xc3\\xa9s', 'procedent', 'QUANT', 'NP', 'QUANT', 'NP', 'QUANT', 'QUANT', 'QUANT', 'PER', 'part', 'NP', 'NP', 'DATE'],)\n",
      "\n",
      "Doc1 Lemmas: (['ingr\\xc3\\xa9s', 'procedent', 'QUANT', 'NP', 'QUANT', 'NP', 'QUANT', 'QUANT', 'QUANT', 'PER', 'part', 'NP', 'NP', 'DATE'],)\n",
      "Doc2 Lemmas: (['ingr\\xc3\\xa9s', 'procedent', 'QUANT', 'NP', 'QUANT', 'NP', 'QUANT', 'QUANT', 'QUANT', 'PER', 'part', 'NP', 'NP', 'DATE'],)\n",
      "\n",
      "Doc1 Lemmas: (['ingr\\xc3\\xa9s', 'procedent', 'QUANT', 'NP', 'QUANT', 'NP', 'QUANT', 'QUANT', 'QUANT', 'PER', 'part', 'NP', 'NP', 'DATE'],)\n",
      "Doc2 Lemmas: (['ingr\\xc3\\xa9s', 'procedent', 'QUANT', 'NP', 'QUANT', 'NP', 'QUANT', 'QUANT', 'QUANT', 'PER', 'part', 'NP', 'NP', 'DATE'],)\n",
      "\n",
      "Doc1 Lemmas: (['ingr\\xc3\\xa9s', 'procedent', 'QUANT', 'NP', 'QUANT', 'NP', 'QUANT', 'QUANT', 'QUANT', 'PER', 'part', 'NP', 'NP', 'DATE'],)\n",
      "Doc2 Lemmas: (['ingr\\xc3\\xa9s', 'procedent', 'QUANT', 'NP', 'QUANT', 'NP', 'QUANT', 'QUANT', 'QUANT', 'PER', 'part', 'NP', 'NP', 'DATE'],)\n",
      "\n",
      "Doc1 Lemmas: (['ingr\\xc3\\xa9s', 'procedent', 'QUANT', 'NP', 'QUANT', 'NP', 'QUANT', 'QUANT', 'QUANT', 'PER', 'part', 'NP', 'NP', 'DATE'],)\n",
      "Doc2 Lemmas: (['ingr\\xc3\\xa9s', 'procedent', 'QUANT', 'NP', 'QUANT', 'NP', 'QUANT', 'QUANT', 'QUANT', 'PER', 'part', 'NP', 'NP', 'DATE'],)\n",
      "\n",
      "----------------\n",
      "Key is: (29, 52)\n",
      "\n",
      "Doc1 Lemmas: (['NP', 'article', 'QUANT', 'NP', 'que', 'es', 'disposar', 'article', 'QUANT', 'NP', 'QUANT', 'DATE', 'que', 'es', 'aprovar', 'NP', 'PER', 'empleat', 'PER', 'article', 'QUANT', 'seg\\xc3\\xbcent', 'NP', 'PER', 'QUANT', 'DATE', 'es', 'aprovar', 'NP', 'refondre', 'NP', 'PER', 'r\\xc3\\xa8gim', 'PER', 'NP', 'resoldre', 'cessament', 'NP', 'mat', 'QUANT', 'gerent', 'PER', 'NP', 'codi', 'QUANT', 'adscriure', 'NP', 'efecte', 'DATE'],)\n",
      "Doc2 Lemmas: (['NP', 'article', 'QUANT', 'NP', 'que', 'es', 'disposar', 'article', 'QUANT', 'NP', 'QUANT', 'DATE', 'que', 'es', 'aprovar', 'NP', 'PER', 'empleat', 'PER', 'article', 'QUANT', 'seg\\xc3\\xbcent', 'NP', 'PER', 'QUANT', 'DATE', 'es', 'aprovar', 'NP', 'refondre', 'NP', 'PER', 'r\\xc3\\xa8gim', 'PER', 'NP', 'resoldre', 'nomenament', 'NP', 'mat', 'QUANT', 'personal', 'PER', 'c\\xc3\\xa0rrec', 'gerent', 'NP', 'codi', 'QUANT', 'NP', 'efecte', 'DATE'],)\n",
      "\n",
      "Doc1 Lemmas: (['acord', 'article', 'QUANT', 'NP', 'NP', 'QUANT', 'DATE', 'que', 'fer', 'nomenament', 'representant', 'NP', 'NP', 'social', 'NP', '\\xc3\\xbas', 'NP', 'article', 'QUANT', 'NP', 'disposar', 'designar', 'article', 'QUANT', 'NP', 'NP', 'NP', 'representant', 'NP', 'NP', 'PER', 'NP'],)\n",
      "Doc2 Lemmas: (['acord', 'article', 'QUANT', 'NP', 'NP', 'QUANT', 'DATE', 'que', 'fer', 'nomenament', 'representant', 'NP', 'NP', 'social', 'NP', '\\xc3\\xbas', 'NP', 'article', 'QUANT', 'NP', 'disposar', 'designar', 'article', 'QUANT', 'NP', 'NP', 'NP', 'representant', 'NP', 'NP', 'PER', 'NP'],)\n",
      "\n",
      "Doc1 Lemmas: (['QUANT', 'QUANT', 'QUANT', 'QUANT', 'QUANT', 'QUANT', 'QUANT', 'QUANT', 'QUANT', 'QUANT', 'QUANT', 'QUANT', 'QUANT', 'QUANT', 'QUANT', 'QUANT', 'QUANT', 'QUANT', 'QUANT', 'QUANT', 'QUANT', 'QUANT', 'QUANT', 'QUANT', 'QUANT', 'QUANT', 'QUANT', 'QUANT', 'QUANT', 'QUANT', 'QUANT', 'QUANT', 'QUANT', 'QUANT', 'QUANT', 'QUANT', 'QUANT', 'QUANT', 'QUANT', 'QUANT', 'QUANT', 'QUANT', 'QUANT', 'QUANT', 'QUANT', 'QUANT', 'QUANT', 'QUANT', 'QUANT', 'QUANT', 'QUANT', 'QUANT', 'QUANT', 'QUANT', 'QUANT', 'QUANT', 'QUANT', 'QUANT', 'QUANT', 'QUANT', 'QUANT', 'QUANT', 'QUANT', 'QUANT', 'NP', 'servei', 'NP', 'class'],)\n",
      "Doc2 Lemmas: (['QUANT', 'QUANT', 'QUANT', 'QUANT', 'QUANT', 'QUANT', 'QUANT', 'QUANT', 'QUANT', 'QUANT', 'QUANT', 'QUANT', 'QUANT', 'QUANT', 'QUANT', 'QUANT', 'QUANT', 'QUANT', 'QUANT', 'QUANT', 'QUANT', 'QUANT', 'QUANT', 'QUANT', 'QUANT', 'QUANT', 'QUANT', 'QUANT', 'QUANT', 'QUANT', 'QUANT', 'QUANT', 'QUANT', 'QUANT', 'QUANT', 'QUANT', 'QUANT', 'QUANT', 'QUANT', 'QUANT', 'QUANT', 'QUANT', 'QUANT', 'QUANT', 'QUANT', 'QUANT', 'QUANT', 'QUANT', 'QUANT', 'QUANT', 'QUANT', 'QUANT', 'QUANT', 'QUANT', 'QUANT', 'QUANT', 'QUANT', 'QUANT', 'QUANT', 'QUANT', 'NP', 'material', 'consum', 'NP', 'servei', 'NP', 'inst', 'afany', 'lucre', 'NP', 'adoldre', 'NP', 'inst', 'afany', 'lucre', 'prom', 'salut', 'NP'],)\n",
      "\n"
     ]
    }
   ],
   "source": [
    "import numpy as np\n",
    "\n",
    "conn = psycopg2.connect(\"dbname=testdb user=abarciauskas\")\n",
    "\n",
    "# get 10 pairs from each +/-1,2,3 standard deviations around the mean\n",
    "sd_range = range(-3,3)\n",
    "ranges = []\n",
    "for i in sd_range:\n",
    "    ranges.append((int(mu+i*sigma), int(mu+(i+1)*sigma)))\n",
    "\n",
    "sd_sets = dict((el,[]) for el in ranges)\n",
    "\n",
    "range_keys = sd_sets.keys()\n",
    "ranges = [range(x[0], x[1]) for x in range_keys]\n",
    "\n",
    "for score_tuple in scores:\n",
    "    docid1, docid2, score = score_tuple\n",
    "    bucket_idx = [i for i in range(len(ranges)) if score in ranges[i]]\n",
    "    if len(bucket_idx) == 1:\n",
    "        bucket_idx = bucket_idx[0]\n",
    "        sd_sets[range_keys[bucket_idx]].append([docid1,docid2])\n",
    "\n",
    "cur = conn.cursor()\n",
    "\n",
    "select_total = 10\n",
    "for key in range_keys:\n",
    "    print '----------------'\n",
    "    print \"Key is: \" + str(key)\n",
    "    print ''\n",
    "    doc_pairs = sd_sets[key][0:10]\n",
    "    for pair in doc_pairs:\n",
    "        doc1 = cur.execute(\"SELECT TaggedLemmas FROM processed_documents WHERE Id = \" + str(pair[0]))\n",
    "        res = cur.fetchone()\n",
    "        print \"Doc1 Lemmas: \" + str(res)\n",
    "        doc2 = cur.execute(\"SELECT TaggedLemmas FROM processed_documents WHERE Id = \" + str(pair[1]))\n",
    "        res = cur.fetchone() \n",
    "        print \"Doc2 Lemmas: \" + str(res)\n",
    "        print ''\n",
    "\n",
    "cur.close()\n",
    "conn.close()"
   ]
  }
 ],
 "metadata": {
  "kernelspec": {
   "display_name": "Python 2",
   "language": "python",
   "name": "python2"
  },
  "language_info": {
   "codemirror_mode": {
    "name": "ipython",
    "version": 2
   },
   "file_extension": ".py",
   "mimetype": "text/x-python",
   "name": "python",
   "nbconvert_exporter": "python",
   "pygments_lexer": "ipython2",
   "version": "2.7.11"
  }
 },
 "nbformat": 4,
 "nbformat_minor": 0
}
