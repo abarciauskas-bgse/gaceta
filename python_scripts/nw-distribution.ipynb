{
 "cells": [
  {
   "cell_type": "markdown",
   "metadata": {},
   "source": [
    "## NW Alignment distributions for sentences\n",
    "\n",
    "* \"Documents\" stored are lists of lemmas extracted from sentences in each SPLIT_NORM document\n",
    "* Currently, there are stored 159,323 documents from 2304 files (there are 13,116 total files)\n",
    "* Computing and storing intra-file Needleman-Wunsch scores (in alignments) finished in a reasonable time (a few hours)\n",
    "    * For these 2304 files, it calculated 25,071,012 scores\n",
    "* The distribution below is for a random sample of ~10% (200,000)\n",
    "* The distribution is left-skewed, indicating most documents are relatively dissimilar.\n",
    "\n",
    "Here is an example of a list of lemma's from 2 documents with a score of 10:\n",
    "\n",
    "* {que,en,el,termini,de,LN_m:6,ho,presentar,en,el,plenari_de_el_consell_municipal_de_l'_ajuntament_de_barcelona}\n",
    "* {que,en,el,termini,de,LN_m:6,ho,presentar,en,el,consell_plenari_de_l'_ajuntament_de_barcelona}\n",
    "\n",
    "**Important note: These scores are not scaled by length of the documents. Similar documents which are long will have a much higher score than shorter documents which are similar. The opposite is also true: longer documents which are extremely dissimilary will have much lower scores than shorter documents which are dissimilar.**"
   ]
  },
  {
   "cell_type": "code",
   "execution_count": 26,
   "metadata": {
    "collapsed": false
   },
   "outputs": [],
   "source": [
    "import psycopg2\n",
    "conn = psycopg2.connect(\"dbname=testdb user=abarciauskas\")\n",
    "cur = conn.cursor()\n",
    "\n",
    "cur.execute(\"SELECT Score FROM alignments ORDER BY random() LIMIT 20000;\")\n",
    "scores = cur.fetchall()\n",
    "cur.close()\n",
    "conn.close()"
   ]
  },
  {
   "cell_type": "code",
   "execution_count": 27,
   "metadata": {
    "collapsed": false
   },
   "outputs": [],
   "source": [
    "score_list = [score[0] for score in scores]"
   ]
  },
  {
   "cell_type": "code",
   "execution_count": 32,
   "metadata": {
    "collapsed": false
   },
   "outputs": [
    {
     "data": {
      "image/png": "[encoded data removed]",
      "text/plain": [
       "<matplotlib.figure.Figure at 0x104f946d0>"
      ]
     },
     "metadata": {},
     "output_type": "display_data"
    }
   ],
   "source": [
    "%matplotlib inline\n",
    "\n",
    "import numpy as np\n",
    "import matplotlib.mlab as mlab\n",
    "import matplotlib.pyplot as plt\n",
    "\n",
    "# the histogram of the data\n",
    "n, bins, patches = plt.hist(score_list, 100, normed=1, facecolor='green', alpha=0.75)\n",
    "mu = np.mean(score_list)\n",
    "sigma = np.std(score_list)\n",
    "plt.title(r'$\\mathrm{Histogram\\ of\\ NW scores:}\\ \\mu=' + str(mu) + ',\\ \\sigma=' + str(sigma) + '$')\n",
    "# Note: there is a value lower, ths has cut some extremes\n",
    "plt.axis([-500, 200, 0, 0.018])\n",
    "plt.grid(True)\n",
    "\n",
    "plt.show()"
   ]
  }
 ],
 "metadata": {
  "kernelspec": {
   "display_name": "Python 2",
   "language": "python",
   "name": "python2"
  },
  "language_info": {
   "codemirror_mode": {
    "name": "ipython",
    "version": 2
   },
   "file_extension": ".py",
   "mimetype": "text/x-python",
   "name": "python",
   "nbconvert_exporter": "python",
   "pygments_lexer": "ipython2",
   "version": "2.7.11"
  }
 },
 "nbformat": 4,
 "nbformat_minor": 0
}
