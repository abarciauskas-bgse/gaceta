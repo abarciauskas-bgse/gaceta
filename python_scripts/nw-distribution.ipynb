{
 "cells": [
  {
   "cell_type": "markdown",
   "metadata": {},
   "source": [
    "## NW Alignment distributions for sentences\n",
    "\n",
    "* \"Documents\" stored are lists of lemmas extracted from sentences in each SPLIT_NORM document\n",
    "  * Catalan stop words removed\n",
    "  * Named Entities replaced with tags \"QUANT, DATE, MISC, PER, LOC, ORG\"\n",
    "* Currently, there are stored 6734 documents from 2209 files (there are 13,116 total files)\n",
    "* Computing and storing intra-file Needleman-Wunsch scores (in alignments) finished in a reasonable time (~a minute)\n",
    "    * For these 2209 files, it calculated 23,421 scores\n",
    "* The distribution is left-skewed, indicating most documents are relatively dissimilar.\n",
    "\n",
    "Here is an example of a list of lemma's from 2 documents with a score of 10:\n",
    "\n",
    "* {que,en,el,termini,de,LN_m:6,ho,presentar,en,el,plenari_de_el_consell_municipal_de_l'_ajuntament_de_barcelona}\n",
    "* {que,en,el,termini,de,LN_m:6,ho,presentar,en,el,consell_plenari_de_l'_ajuntament_de_barcelona}\n",
    "\n",
    "**Important note: These scores are not scaled by length of the documents. Similar documents which are long will have a much higher score than shorter documents which are similar. The opposite is also true: longer documents which are extremely dissimilary will have much lower scores than shorter documents which are dissimilar.**"
   ]
  },
  {
   "cell_type": "code",
   "execution_count": 2,
   "metadata": {
    "collapsed": false
   },
   "outputs": [
    {
     "data": {
      "text/plain": [
       "(27913, 27914, -26)"
      ]
     },
     "execution_count": 2,
     "metadata": {},
     "output_type": "execute_result"
    }
   ],
   "source": [
    "import psycopg2\n",
    "conn = psycopg2.connect(\"dbname=gaceta user=abarciauskas\")\n",
    "cur = conn.cursor()\n",
    "\n",
    "cur.execute(\"SELECT Doc1Id,Doc2Id,Score FROM alignments\")\n",
    "scores = cur.fetchall()\n",
    "cur.close()\n",
    "conn.close()\n",
    "scores[0]"
   ]
  },
  {
   "cell_type": "code",
   "execution_count": 3,
   "metadata": {
    "collapsed": false
   },
   "outputs": [
    {
     "name": "stdout",
     "output_type": "stream",
     "text": [
      "36574\n",
      "36523\n"
     ]
    }
   ],
   "source": [
    "score_list = [score[2] for score in scores]\n",
    "print(len(score_list))\n",
    "score_list = [item for item in score_list if item > -200]\n",
    "print(len(score_list))"
   ]
  },
  {
   "cell_type": "code",
   "execution_count": 4,
   "metadata": {
    "collapsed": false
   },
   "outputs": [
    {
     "data": {
      "image/png": "[encoded data removed]",
      "text/plain": [
       "<matplotlib.figure.Figure at 0x10546a950>"
      ]
     },
     "metadata": {},
     "output_type": "display_data"
    }
   ],
   "source": [
    "%matplotlib inline\n",
    "\n",
    "import numpy as np\n",
    "import matplotlib.mlab as mlab\n",
    "import matplotlib.pyplot as plt\n",
    "\n",
    "# the histogram of the data\n",
    "n, bins, patches = plt.hist(score_list, 100, normed=1, facecolor='green', alpha=0.75)\n",
    "mu = np.mean(score_list)\n",
    "sigma = np.std(score_list)\n",
    "plt.title(r'$\\mathrm{Histogram\\ of\\ NW scores:}\\ \\mu=' + str(mu) + ',\\ \\sigma=' + str(sigma) + '$')\n",
    "# Note: there is a value lower, ths has cut some extremes\n",
    "plt.axis([-200, 50, 0, 0.062])\n",
    "plt.grid(True)\n",
    "\n",
    "plt.show()"
   ]
  },
  {
   "cell_type": "code",
   "execution_count": 5,
   "metadata": {
    "collapsed": false
   },
   "outputs": [
    {
     "data": {
      "text/plain": [
       "(27913, 27914, -26)"
      ]
     },
     "execution_count": 5,
     "metadata": {},
     "output_type": "execute_result"
    }
   ],
   "source": [
    "scores[0]"
   ]
  },
  {
   "cell_type": "code",
   "execution_count": 53,
   "metadata": {
    "collapsed": false
   },
   "outputs": [
    {
     "name": "stdout",
     "output_type": "stream",
     "text": [
      "----------------\n",
      "Key is: (-31, -11)\n",
      "\n",
      "Doc1 Lemmas: ('10-2004_4.txt', ['\\xc3\\xbas', 'NP', 'article', 'QUANT', 'NP', 'que', 'determinar', 'article', 'QUANT', 'NP', 'disposar', 'designar', 'NP', 'NP', 'gerent', 'NP'])\n",
      "Doc2 Lemmas: ('10-2004_4.txt', ['es', 'compte', 'PER', 'plenari', 'NP'])\n",
      "\n",
      "Doc1 Lemmas: ('10-2004_4.txt', ['\\xc3\\xbas', 'NP', 'article', 'QUANT', 'NP', 'que', 'determinar', 'article', 'QUANT', 'NP', 'disposar', 'designar', 'NP', 'NP', 'gerent', 'NP'])\n",
      "Doc2 Lemmas: ('10-2004_4.txt', ['es', 'compte', 'PER', 'plenari', 'NP'])\n",
      "\n",
      "Doc1 Lemmas: ('10-2004_4.txt', ['es', 'compte', 'PER', 'plenari', 'NP'])\n",
      "Doc2 Lemmas: ('10-2004_4.txt', ['\\xc3\\xbas', 'NP', 'article', 'QUANT', 'NP', 'que', 'determinar', 'article', 'QUANT', 'NP', 'disposar', 'designar', 'NP', 'NP', 'gerent', 'NP'])\n",
      "\n",
      "Doc1 Lemmas: ('10-2004_4.txt', ['\\xc3\\xbas', 'NP', 'article', 'QUANT', 'NP', 'que', 'determinar', 'article', 'QUANT', 'NP', 'disposar', 'designar', 'NP', 'NP', 'gerent', 'NP'])\n",
      "Doc2 Lemmas: ('10-2004_4.txt', ['es', 'compte', 'PER', 'plenari', 'NP'])\n",
      "\n",
      "Doc1 Lemmas: ('11-2004_1.txt', ['conveni', 'finan\\xc3\\xa7ament', 'NP', 'NP', 'NP', 'NP', 'DATE', 'NP'])\n",
      "Doc2 Lemmas: ('11-2004_1.txt', ['desafectar', 'QUANT', 'ingr\\xc3\\xa9s', 'procedent', 'solar', 'QUANT', 'NP', 'QUANT', 'projecte', 'QUANT', 'carrer', 'NP', 'n\\xc3\\xbamero', 'QUANT', 'QUANT'])\n",
      "\n",
      "Doc1 Lemmas: ('11-2004_1.txt', ['conveni', 'finan\\xc3\\xa7ament', 'NP', 'NP', 'NP', 'NP', 'DATE', 'NP'])\n",
      "Doc2 Lemmas: ('11-2004_1.txt', ['afectar', 'ingr\\xc3\\xa9s', 'import', 'QUANT', 'procedent', 'solar', 'relacionar', 'punt', 'PER', 'projecte', 'QUANT', 'NP', 'capital', 'NP', 'QUANT'])\n",
      "\n",
      "Doc1 Lemmas: ('11-2004_1.txt', ['conveni', 'finan\\xc3\\xa7ament', 'NP', 'NP', 'NP', 'NP', 'DATE', 'NP'])\n",
      "Doc2 Lemmas: ('11-2004_1.txt', ['desafectar', 'QUANT', 'ingr\\xc3\\xa9s', 'procedent', 'solar', 'QUANT', 'NP', 'QUANT', 'projecte', 'QUANT', 'NP', 'QUANT'])\n",
      "\n",
      "Doc1 Lemmas: ('11-2004_1.txt', ['funcionament', 'NP', 'QUANT', 'NP', 'QUANT', 'NP', 'QUANT', 'cr\\xc3\\xa8dit', 'ingr\\xc3\\xa9s', 'decret', 'NP', 'DATE', 'NP', 'n\\xc3\\xbamero', 'QUANT', 'NP', 'QUANT', 'QUANT', 'QUANT', 'NP', 'QUANT', 'QUANT', 'QUANT', 'NP', 'NP', 'NP'])\n",
      "Doc2 Lemmas: ('11-2004_1.txt', ['desafectar', 'QUANT', 'ingr\\xc3\\xa9s', 'procedent', 'solar', 'QUANT', 'NP', 'QUANT', 'projecte', 'QUANT', 'carrer', 'NP', 'n\\xc3\\xbamero', 'QUANT', 'QUANT'])\n",
      "\n",
      "Doc1 Lemmas: ('11-2004_1.txt', ['funcionament', 'NP', 'QUANT', 'NP', 'QUANT', 'NP', 'QUANT', 'cr\\xc3\\xa8dit', 'ingr\\xc3\\xa9s', 'decret', 'NP', 'DATE', 'NP', 'n\\xc3\\xbamero', 'QUANT', 'NP', 'QUANT', 'QUANT', 'QUANT', 'NP', 'QUANT', 'QUANT', 'QUANT', 'NP', 'NP', 'NP'])\n",
      "Doc2 Lemmas: ('11-2004_1.txt', ['afectar', 'ingr\\xc3\\xa9s', 'import', 'QUANT', 'procedent', 'solar', 'relacionar', 'punt', 'PER', 'projecte', 'QUANT', 'NP', 'capital', 'NP', 'QUANT'])\n",
      "\n",
      "Doc1 Lemmas: ('11-2004_1.txt', ['funcionament', 'NP', 'QUANT', 'NP', 'QUANT', 'NP', 'QUANT', 'cr\\xc3\\xa8dit', 'ingr\\xc3\\xa9s', 'decret', 'NP', 'DATE', 'NP', 'n\\xc3\\xbamero', 'QUANT', 'NP', 'QUANT', 'QUANT', 'QUANT', 'NP', 'QUANT', 'QUANT', 'QUANT', 'NP', 'NP', 'NP'])\n",
      "Doc2 Lemmas: ('11-2004_1.txt', ['desafectar', 'QUANT', 'ingr\\xc3\\xa9s', 'procedent', 'solar', 'QUANT', 'NP', 'QUANT', 'projecte', 'QUANT', 'NP', 'QUANT'])\n",
      "\n",
      "----------------\n",
      "Key is: (-51, -31)\n",
      "\n",
      "Doc1 Lemmas: ('11-2004_1.txt', ['conveni', 'finan\\xc3\\xa7ament', 'NP', 'NP', 'NP', 'NP', 'DATE', 'NP'])\n",
      "Doc2 Lemmas: ('11-2004_1.txt', ['funcionament', 'NP', 'QUANT', 'NP', 'QUANT', 'NP', 'QUANT', 'cr\\xc3\\xa8dit', 'ingr\\xc3\\xa9s', 'decret', 'NP', 'DATE', 'NP', 'n\\xc3\\xbamero', 'QUANT', 'NP', 'QUANT', 'QUANT', 'QUANT', 'NP', 'QUANT', 'QUANT', 'QUANT', 'NP', 'NP', 'NP'])\n",
      "\n",
      "Doc1 Lemmas: ('11-2004_1.txt', ['funcionament', 'NP', 'QUANT', 'NP', 'QUANT', 'NP', 'QUANT', 'cr\\xc3\\xa8dit', 'ingr\\xc3\\xa9s', 'decret', 'NP', 'DATE', 'NP', 'n\\xc3\\xbamero', 'QUANT', 'NP', 'QUANT', 'QUANT', 'QUANT', 'NP', 'QUANT', 'QUANT', 'QUANT', 'NP', 'NP', 'NP'])\n",
      "Doc2 Lemmas: ('11-2004_1.txt', ['\\xc3\\xbas', 'NP', 'article', 'QUANT', 'QUANT', 'NP', 'QUANT', 'disposar'])\n",
      "\n",
      "Doc1 Lemmas: ('11-2004_1.txt', ['funcionament', 'NP', 'QUANT', 'NP', 'QUANT', 'NP', 'QUANT', 'cr\\xc3\\xa8dit', 'ingr\\xc3\\xa9s', 'decret', 'NP', 'DATE', 'NP', 'n\\xc3\\xbamero', 'QUANT', 'NP', 'QUANT', 'QUANT', 'QUANT', 'NP', 'QUANT', 'QUANT', 'QUANT', 'NP', 'NP', 'NP'])\n",
      "Doc2 Lemmas: ('11-2004_1.txt', ['president', 'NP', 'NP', 'NP', 'NP', 'NP'])\n",
      "\n",
      "Doc1 Lemmas: ('11-2004_1.txt', ['funcionament', 'NP', 'QUANT', 'NP', 'QUANT', 'NP', 'QUANT', 'cr\\xc3\\xa8dit', 'ingr\\xc3\\xa9s', 'decret', 'NP', 'DATE', 'NP', 'n\\xc3\\xbamero', 'QUANT', 'NP', 'QUANT', 'QUANT', 'QUANT', 'NP', 'QUANT', 'QUANT', 'QUANT', 'NP', 'NP', 'NP'])\n",
      "Doc2 Lemmas: ('11-2004_1.txt', ['\\xc3\\xbas', 'NP', 'article', 'QUANT', 'QUANT', 'NP', 'QUANT', 'disposar'])\n",
      "\n",
      "Doc1 Lemmas: ('11-2004_1.txt', ['funcionament', 'NP', 'QUANT', 'NP', 'QUANT', 'NP', 'QUANT', 'cr\\xc3\\xa8dit', 'ingr\\xc3\\xa9s', 'decret', 'NP', 'DATE', 'NP', 'n\\xc3\\xbamero', 'QUANT', 'NP', 'QUANT', 'QUANT', 'QUANT', 'NP', 'QUANT', 'QUANT', 'QUANT', 'NP', 'NP', 'NP'])\n",
      "Doc2 Lemmas: ('11-2004_1.txt', ['afectar', 'QUANT', 'PER', 'desglossament', 'projecte', 'QUANT', 'NP'])\n",
      "\n",
      "Doc1 Lemmas: ('11-2008_18.txt', ['NP', 'personal', 'funcionari', 'contractar', 'PER', 'PER', 'NP'])\n",
      "Doc2 Lemmas: ('11-2008_18.txt', ['nivell', 'lloc', 'treball', 'actualment', 'ocupar', 'si', 'ser', 'cas', 'PER', 'ocupar', 'PER', 'd', 'QUANT', 'punt', 'barem', 'PER', 'desenvolupament', 'lloc', 'PER', 'nivell', 'lloc', 'treball', 'convocar', 'QUANT', 'punt'])\n",
      "\n",
      "Doc1 Lemmas: ('11-2008_18.txt', ['personal', 'funcionari', 'NP', 'adscriure', 'NP', 'personal', 'PER', 'PER', 'NP', 'posteriorment', 'subrogar', 'NP', 'participar', 'igualment', 'concurs'])\n",
      "Doc2 Lemmas: ('11-2008_18.txt', ['efecte', 'es', 'haver', 'entendre', 'nivell', 'lloc', 'treball', 'desenvolupar', 'nivell', 'complement', 'efectivament', 'acreditar', 'PER', 'es', 'tractar', 'nivell', 'PER', 'grau', 'personal', 'consolidar', 'aspirant', 'nivell', 'lloc', 'treball', 'ocupar', 'trasllat', 'ser', 'PER', 'grau', 'personal', 'que', 'haver', 'poder', 'consolidar'])\n",
      "\n",
      "Doc1 Lemmas: ('11-2008_18.txt', ['tamb\\xc3\\xa9', 'participar', 'contractar', 'laboral', 'fix', 'NP', 'que', 'haver', 'efectuar', 'PER', 'NP', 'acord', 'PER', 'esmentar', 'NP'])\n",
      "Doc2 Lemmas: ('11-2008_18.txt', ['efecte', 'es', 'haver', 'entendre', 'nivell', 'lloc', 'treball', 'desenvolupar', 'nivell', 'complement', 'efectivament', 'acreditar', 'PER', 'es', 'tractar', 'nivell', 'PER', 'grau', 'personal', 'consolidar', 'aspirant', 'nivell', 'lloc', 'treball', 'ocupar', 'trasllat', 'ser', 'PER', 'grau', 'personal', 'que', 'haver', 'poder', 'consolidar'])\n",
      "\n",
      "Doc1 Lemmas: ('11-2008_18.txt', ['NP', 'prestar', 'PER', 'any', 'servei', 'funcionari', 'contracte', 'PER', 'PER', 'NP', 'NP'])\n",
      "Doc2 Lemmas: ('11-2008_18.txt', ['nivell', 'lloc', 'treball', 'actualment', 'ocupar', 'si', 'ser', 'cas', 'PER', 'ocupar', 'PER', 'd', 'QUANT', 'punt', 'barem', 'PER', 'desenvolupament', 'lloc', 'PER', 'nivell', 'lloc', 'treball', 'convocar', 'QUANT', 'punt'])\n",
      "\n",
      "Doc1 Lemmas: ('11-2008_18.txt', ['NP', 'transc\\xc3\\xb3rrer', 'PER', 'QUANT', 'any', 'des_de', 'concurs'])\n",
      "Doc2 Lemmas: ('11-2008_18.txt', ['nivell', 'lloc', 'treball', 'actualment', 'ocupar', 'si', 'ser', 'cas', 'PER', 'ocupar', 'PER', 'd', 'QUANT', 'punt', 'barem', 'PER', 'desenvolupament', 'lloc', 'PER', 'nivell', 'lloc', 'treball', 'convocar', 'QUANT', 'punt'])\n",
      "\n",
      "----------------\n",
      "Key is: (-11, 8)\n",
      "\n",
      "Doc1 Lemmas: ('10-2004_4.txt', ['es', 'compte', 'PER', 'plenari', 'NP'])\n",
      "Doc2 Lemmas: ('10-2004_4.txt', ['es', 'compte', 'PER', 'plenari', 'NP'])\n",
      "\n",
      "Doc1 Lemmas: ('11-2004_1.txt', ['conveni', 'finan\\xc3\\xa7ament', 'NP', 'NP', 'NP', 'NP', 'DATE', 'NP'])\n",
      "Doc2 Lemmas: ('11-2004_1.txt', ['\\xc3\\xbas', 'NP', 'article', 'QUANT', 'QUANT', 'NP', 'QUANT', 'disposar'])\n",
      "\n",
      "Doc1 Lemmas: ('11-2004_1.txt', ['conveni', 'finan\\xc3\\xa7ament', 'NP', 'NP', 'NP', 'NP', 'DATE', 'NP'])\n",
      "Doc2 Lemmas: ('11-2004_1.txt', ['president', 'NP', 'NP', 'NP', 'NP', 'NP'])\n",
      "\n",
      "Doc1 Lemmas: ('11-2004_1.txt', ['conveni', 'finan\\xc3\\xa7ament', 'NP', 'NP', 'NP', 'NP', 'DATE', 'NP'])\n",
      "Doc2 Lemmas: ('11-2004_1.txt', ['\\xc3\\xbas', 'NP', 'article', 'QUANT', 'QUANT', 'NP', 'QUANT', 'disposar'])\n",
      "\n",
      "Doc1 Lemmas: ('11-2004_1.txt', ['conveni', 'finan\\xc3\\xa7ament', 'NP', 'NP', 'NP', 'NP', 'DATE', 'NP'])\n",
      "Doc2 Lemmas: ('11-2004_1.txt', ['afectar', 'QUANT', 'PER', 'desglossament', 'projecte', 'QUANT', 'NP'])\n",
      "\n",
      "Doc1 Lemmas: ('11-2004_1.txt', ['\\xc3\\xbas', 'NP', 'article', 'QUANT', 'QUANT', 'NP', 'QUANT', 'disposar'])\n",
      "Doc2 Lemmas: ('11-2004_1.txt', ['president', 'NP', 'NP', 'NP', 'NP', 'NP'])\n",
      "\n",
      "Doc1 Lemmas: ('11-2004_1.txt', ['\\xc3\\xbas', 'NP', 'article', 'QUANT', 'QUANT', 'NP', 'QUANT', 'disposar'])\n",
      "Doc2 Lemmas: ('11-2004_1.txt', ['\\xc3\\xbas', 'NP', 'article', 'QUANT', 'QUANT', 'NP', 'QUANT', 'disposar'])\n",
      "\n",
      "Doc1 Lemmas: ('11-2004_1.txt', ['\\xc3\\xbas', 'NP', 'article', 'QUANT', 'QUANT', 'NP', 'QUANT', 'disposar'])\n",
      "Doc2 Lemmas: ('11-2004_1.txt', ['desafectar', 'QUANT', 'ingr\\xc3\\xa9s', 'procedent', 'solar', 'QUANT', 'NP', 'QUANT', 'projecte', 'QUANT', 'NP', 'QUANT'])\n",
      "\n",
      "Doc1 Lemmas: ('11-2004_1.txt', ['\\xc3\\xbas', 'NP', 'article', 'QUANT', 'QUANT', 'NP', 'QUANT', 'disposar'])\n",
      "Doc2 Lemmas: ('11-2004_1.txt', ['afectar', 'QUANT', 'PER', 'desglossament', 'projecte', 'QUANT', 'NP'])\n",
      "\n",
      "Doc1 Lemmas: ('11-2004_1.txt', ['desafectar', 'QUANT', 'ingr\\xc3\\xa9s', 'procedent', 'solar', 'QUANT', 'NP', 'QUANT', 'projecte', 'QUANT', 'carrer', 'NP', 'n\\xc3\\xbamero', 'QUANT', 'QUANT'])\n",
      "Doc2 Lemmas: ('11-2004_1.txt', ['afectar', 'ingr\\xc3\\xa9s', 'import', 'QUANT', 'procedent', 'solar', 'relacionar', 'punt', 'PER', 'projecte', 'QUANT', 'NP', 'capital', 'NP', 'QUANT'])\n",
      "\n",
      "----------------\n",
      "Key is: (-71, -51)\n",
      "\n",
      "Doc1 Lemmas: ('11-2008_18.txt', ['NP', 'QUANT', 'NP', 'QUANT', 'NP', 'decret', 'NP', 'NP', 'NP', 'NP', 'DATE', 'es', 'convocar', 'personal', 'NP', 'lloc', 'treball', 'que', 'constar', 'PER', 'acord', 'que', 'es', 'indicar', 'PER', 'PER', 'requisit', 'com\\xc3\\xba', 'que', 'es', 'fixar', 'NP', 'part', 'requisit', 'addicional', 'concurs', 'optar', 'ser', 'PER', 'NP', 'servei', 'PER', 'NP', 'NP', 'pert\\xc3\\xa0nyer', 'NP', 'NP', 'NP', 'NP', 'NP'])\n",
      "Doc2 Lemmas: ('11-2008_18.txt', ['personal', 'funcionari', 'NP', 'adscriure', 'NP', 'personal', 'PER', 'PER', 'NP', 'posteriorment', 'subrogar', 'NP', 'participar', 'igualment', 'concurs'])\n",
      "\n",
      "Doc1 Lemmas: ('11-2008_18.txt', ['NP', 'QUANT', 'NP', 'QUANT', 'NP', 'decret', 'NP', 'NP', 'NP', 'NP', 'DATE', 'es', 'convocar', 'personal', 'NP', 'lloc', 'treball', 'que', 'constar', 'PER', 'acord', 'que', 'es', 'indicar', 'PER', 'PER', 'requisit', 'com\\xc3\\xba', 'que', 'es', 'fixar', 'NP', 'part', 'requisit', 'addicional', 'concurs', 'optar', 'ser', 'PER', 'NP', 'servei', 'PER', 'NP', 'NP', 'pert\\xc3\\xa0nyer', 'NP', 'NP', 'NP', 'NP', 'NP'])\n",
      "Doc2 Lemmas: ('11-2008_18.txt', ['nivell', 'lloc', 'treball', 'actualment', 'ocupar', 'si', 'ser', 'cas', 'PER', 'ocupar', 'PER', 'd', 'QUANT', 'punt', 'barem', 'PER', 'desenvolupament', 'lloc', 'PER', 'nivell', 'lloc', 'treball', 'convocar', 'QUANT', 'punt'])\n",
      "\n",
      "Doc1 Lemmas: ('11-2008_18.txt', ['NP', 'QUANT', 'NP', 'QUANT', 'NP', 'decret', 'NP', 'NP', 'NP', 'NP', 'DATE', 'es', 'convocar', 'personal', 'NP', 'lloc', 'treball', 'que', 'constar', 'PER', 'acord', 'que', 'es', 'indicar', 'PER', 'PER', 'requisit', 'com\\xc3\\xba', 'que', 'es', 'fixar', 'NP', 'part', 'requisit', 'addicional', 'concurs', 'optar', 'ser', 'PER', 'NP', 'servei', 'PER', 'NP', 'NP', 'pert\\xc3\\xa0nyer', 'NP', 'NP', 'NP', 'NP', 'NP'])\n",
      "Doc2 Lemmas: ('11-2008_18.txt', ['efecte', 'es', 'haver', 'entendre', 'nivell', 'lloc', 'treball', 'desenvolupar', 'nivell', 'complement', 'efectivament', 'acreditar', 'PER', 'es', 'tractar', 'nivell', 'PER', 'grau', 'personal', 'consolidar', 'aspirant', 'nivell', 'lloc', 'treball', 'ocupar', 'trasllat', 'ser', 'PER', 'grau', 'personal', 'que', 'haver', 'poder', 'consolidar'])\n",
      "\n",
      "Doc1 Lemmas: ('11-2008_18.txt', ['NP', 'QUANT', 'NP', 'QUANT', 'NP', 'decret', 'NP', 'NP', 'NP', 'NP', 'DATE', 'es', 'convocar', 'personal', 'NP', 'lloc', 'treball', 'que', 'constar', 'PER', 'acord', 'que', 'es', 'indicar', 'PER', 'PER', 'requisit', 'com\\xc3\\xba', 'que', 'es', 'fixar', 'NP', 'part', 'requisit', 'addicional', 'concurs', 'optar', 'ser', 'PER', 'NP', 'servei', 'PER', 'NP', 'NP', 'pert\\xc3\\xa0nyer', 'NP', 'NP', 'NP', 'NP', 'NP'])\n",
      "Doc2 Lemmas: ('11-2008_18.txt', ['NP', 'gerent', 'director', 'NP', 'que', 'concurs', 'es', 'indicar', 'expressament', 'PER', 'que', 'cas', 'president', 'titular', 'NP'])\n",
      "\n",
      "Doc1 Lemmas: ('11-2008_18.txt', ['NP', 'personal', 'funcionari', 'contractar', 'PER', 'PER', 'NP'])\n",
      "Doc2 Lemmas: ('11-2008_18.txt', ['efecte', 'es', 'haver', 'entendre', 'nivell', 'lloc', 'treball', 'desenvolupar', 'nivell', 'complement', 'efectivament', 'acreditar', 'PER', 'es', 'tractar', 'nivell', 'PER', 'grau', 'personal', 'consolidar', 'aspirant', 'nivell', 'lloc', 'treball', 'ocupar', 'trasllat', 'ser', 'PER', 'grau', 'personal', 'que', 'haver', 'poder', 'consolidar'])\n",
      "\n",
      "Doc1 Lemmas: ('11-2008_18.txt', ['NP', 'prestar', 'PER', 'any', 'servei', 'funcionari', 'contracte', 'PER', 'PER', 'NP', 'NP'])\n",
      "Doc2 Lemmas: ('11-2008_18.txt', ['efecte', 'es', 'haver', 'entendre', 'nivell', 'lloc', 'treball', 'desenvolupar', 'nivell', 'complement', 'efectivament', 'acreditar', 'PER', 'es', 'tractar', 'nivell', 'PER', 'grau', 'personal', 'consolidar', 'aspirant', 'nivell', 'lloc', 'treball', 'ocupar', 'trasllat', 'ser', 'PER', 'grau', 'personal', 'que', 'haver', 'poder', 'consolidar'])\n",
      "\n",
      "Doc1 Lemmas: ('11-2008_18.txt', ['NP', 'transc\\xc3\\xb3rrer', 'PER', 'QUANT', 'any', 'des_de', 'concurs'])\n",
      "Doc2 Lemmas: ('11-2008_18.txt', ['efecte', 'es', 'haver', 'entendre', 'nivell', 'lloc', 'treball', 'desenvolupar', 'nivell', 'complement', 'efectivament', 'acreditar', 'PER', 'es', 'tractar', 'nivell', 'PER', 'grau', 'personal', 'consolidar', 'aspirant', 'nivell', 'lloc', 'treball', 'ocupar', 'trasllat', 'ser', 'PER', 'grau', 'personal', 'que', 'haver', 'poder', 'consolidar'])\n",
      "\n",
      "Doc1 Lemmas: ('11-2008_18.txt', ['efecte', 'es', 'haver', 'entendre', 'nivell', 'lloc', 'treball', 'desenvolupar', 'nivell', 'complement', 'efectivament', 'acreditar', 'PER', 'es', 'tractar', 'nivell', 'PER', 'grau', 'personal', 'consolidar', 'aspirant', 'nivell', 'lloc', 'treball', 'ocupar', 'trasllat', 'ser', 'PER', 'grau', 'personal', 'que', 'haver', 'poder', 'consolidar'])\n",
      "Doc2 Lemmas: ('11-2008_18.txt', ['NP', 'membre', 'seg\\xc3\\xbcent', 'director', 'NP', 'titular'])\n",
      "\n",
      "Doc1 Lemmas: ('11-2008_18.txt', ['efecte', 'es', 'haver', 'entendre', 'nivell', 'lloc', 'treball', 'desenvolupar', 'nivell', 'complement', 'efectivament', 'acreditar', 'PER', 'es', 'tractar', 'nivell', 'PER', 'grau', 'personal', 'consolidar', 'aspirant', 'nivell', 'lloc', 'treball', 'ocupar', 'trasllat', 'ser', 'PER', 'grau', 'personal', 'que', 'haver', 'poder', 'consolidar'])\n",
      "Doc2 Lemmas: ('11-2008_18.txt', ['PER', 'NP', 'sector', 'districte'])\n",
      "\n",
      "Doc1 Lemmas: ('11-2008_18.txt', ['efecte', 'es', 'haver', 'entendre', 'nivell', 'lloc', 'treball', 'desenvolupar', 'nivell', 'complement', 'efectivament', 'acreditar', 'PER', 'es', 'tractar', 'nivell', 'PER', 'grau', 'personal', 'consolidar', 'aspirant', 'nivell', 'lloc', 'treball', 'ocupar', 'trasllat', 'ser', 'PER', 'grau', 'personal', 'que', 'haver', 'poder', 'consolidar'])\n",
      "Doc2 Lemmas: ('11-2008_18.txt', ['PER', 'especialista', 'objecte', 'concurs'])\n",
      "\n",
      "----------------\n",
      "Key is: (-90, -71)\n",
      "\n",
      "Doc1 Lemmas: ('11-2008_18.txt', ['NP', 'QUANT', 'NP', 'QUANT', 'NP', 'decret', 'NP', 'NP', 'NP', 'NP', 'DATE', 'es', 'convocar', 'personal', 'NP', 'lloc', 'treball', 'que', 'constar', 'PER', 'acord', 'que', 'es', 'indicar', 'PER', 'PER', 'requisit', 'com\\xc3\\xba', 'que', 'es', 'fixar', 'NP', 'part', 'requisit', 'addicional', 'concurs', 'optar', 'ser', 'PER', 'NP', 'servei', 'PER', 'NP', 'NP', 'pert\\xc3\\xa0nyer', 'NP', 'NP', 'NP', 'NP', 'NP'])\n",
      "Doc2 Lemmas: ('11-2008_18.txt', ['NP', 'personal', 'funcionari', 'contractar', 'PER', 'PER', 'NP'])\n",
      "\n",
      "Doc1 Lemmas: ('11-2008_18.txt', ['NP', 'QUANT', 'NP', 'QUANT', 'NP', 'decret', 'NP', 'NP', 'NP', 'NP', 'DATE', 'es', 'convocar', 'personal', 'NP', 'lloc', 'treball', 'que', 'constar', 'PER', 'acord', 'que', 'es', 'indicar', 'PER', 'PER', 'requisit', 'com\\xc3\\xba', 'que', 'es', 'fixar', 'NP', 'part', 'requisit', 'addicional', 'concurs', 'optar', 'ser', 'PER', 'NP', 'servei', 'PER', 'NP', 'NP', 'pert\\xc3\\xa0nyer', 'NP', 'NP', 'NP', 'NP', 'NP'])\n",
      "Doc2 Lemmas: ('11-2008_18.txt', ['tamb\\xc3\\xa9', 'participar', 'contractar', 'laboral', 'fix', 'NP', 'que', 'haver', 'efectuar', 'PER', 'NP', 'acord', 'PER', 'esmentar', 'NP'])\n",
      "\n",
      "Doc1 Lemmas: ('11-2008_18.txt', ['NP', 'QUANT', 'NP', 'QUANT', 'NP', 'decret', 'NP', 'NP', 'NP', 'NP', 'DATE', 'es', 'convocar', 'personal', 'NP', 'lloc', 'treball', 'que', 'constar', 'PER', 'acord', 'que', 'es', 'indicar', 'PER', 'PER', 'requisit', 'com\\xc3\\xba', 'que', 'es', 'fixar', 'NP', 'part', 'requisit', 'addicional', 'concurs', 'optar', 'ser', 'PER', 'NP', 'servei', 'PER', 'NP', 'NP', 'pert\\xc3\\xa0nyer', 'NP', 'NP', 'NP', 'NP', 'NP'])\n",
      "Doc2 Lemmas: ('11-2008_18.txt', ['NP', 'prestar', 'PER', 'any', 'servei', 'funcionari', 'contracte', 'PER', 'PER', 'NP', 'NP'])\n",
      "\n",
      "Doc1 Lemmas: ('11-2008_18.txt', ['NP', 'QUANT', 'NP', 'QUANT', 'NP', 'decret', 'NP', 'NP', 'NP', 'NP', 'DATE', 'es', 'convocar', 'personal', 'NP', 'lloc', 'treball', 'que', 'constar', 'PER', 'acord', 'que', 'es', 'indicar', 'PER', 'PER', 'requisit', 'com\\xc3\\xba', 'que', 'es', 'fixar', 'NP', 'part', 'requisit', 'addicional', 'concurs', 'optar', 'ser', 'PER', 'NP', 'servei', 'PER', 'NP', 'NP', 'pert\\xc3\\xa0nyer', 'NP', 'NP', 'NP', 'NP', 'NP'])\n",
      "Doc2 Lemmas: ('11-2008_18.txt', ['NP', 'transc\\xc3\\xb3rrer', 'PER', 'QUANT', 'any', 'des_de', 'concurs'])\n",
      "\n",
      "Doc1 Lemmas: ('11-2008_18.txt', ['NP', 'QUANT', 'NP', 'QUANT', 'NP', 'decret', 'NP', 'NP', 'NP', 'NP', 'DATE', 'es', 'convocar', 'personal', 'NP', 'lloc', 'treball', 'que', 'constar', 'PER', 'acord', 'que', 'es', 'indicar', 'PER', 'PER', 'requisit', 'com\\xc3\\xba', 'que', 'es', 'fixar', 'NP', 'part', 'requisit', 'addicional', 'concurs', 'optar', 'ser', 'PER', 'NP', 'servei', 'PER', 'NP', 'NP', 'pert\\xc3\\xa0nyer', 'NP', 'NP', 'NP', 'NP', 'NP'])\n",
      "Doc2 Lemmas: ('11-2008_18.txt', ['es', 'any', 'complet', 'servei', 'incloure', 'servei', 'anterior', 'que', 'haver', 'ser', 'formalment', 'recon\\xc3\\xa8ixer', 'a_ra\\xc3\\xb3_de', 'QUANT', 'punt', 'PER', 'd', 'QUANT', 'punt'])\n",
      "\n",
      "Doc1 Lemmas: ('11-2008_18.txt', ['NP', 'QUANT', 'NP', 'QUANT', 'NP', 'decret', 'NP', 'NP', 'NP', 'NP', 'DATE', 'es', 'convocar', 'personal', 'NP', 'lloc', 'treball', 'que', 'constar', 'PER', 'acord', 'que', 'es', 'indicar', 'PER', 'PER', 'requisit', 'com\\xc3\\xba', 'que', 'es', 'fixar', 'NP', 'part', 'requisit', 'addicional', 'concurs', 'optar', 'ser', 'PER', 'NP', 'servei', 'PER', 'NP', 'NP', 'pert\\xc3\\xa0nyer', 'NP', 'NP', 'NP', 'NP', 'NP'])\n",
      "Doc2 Lemmas: ('11-2008_18.txt', ['es', 'PER', 'd', 'QUANT', 'punt', 'barem', 'PER', 'posseir', 'grau', 'nivell', 'PER', 'lloc', 'treball', 'convocar', 'QUANT', 'punt'])\n",
      "\n",
      "Doc1 Lemmas: ('11-2008_18.txt', ['NP', 'QUANT', 'NP', 'QUANT', 'NP', 'decret', 'NP', 'NP', 'NP', 'NP', 'DATE', 'es', 'convocar', 'personal', 'NP', 'lloc', 'treball', 'que', 'constar', 'PER', 'acord', 'que', 'es', 'indicar', 'PER', 'PER', 'requisit', 'com\\xc3\\xba', 'que', 'es', 'fixar', 'NP', 'part', 'requisit', 'addicional', 'concurs', 'optar', 'ser', 'PER', 'NP', 'servei', 'PER', 'NP', 'NP', 'pert\\xc3\\xa0nyer', 'NP', 'NP', 'NP', 'NP', 'NP'])\n",
      "Doc2 Lemmas: ('11-2008_18.txt', ['posseir', 'grau', 'nivell', 'lloc', 'treball', 'convocar', 'QUANT', 'punt'])\n",
      "\n",
      "Doc1 Lemmas: ('11-2008_18.txt', ['NP', 'QUANT', 'NP', 'QUANT', 'NP', 'decret', 'NP', 'NP', 'NP', 'NP', 'DATE', 'es', 'convocar', 'personal', 'NP', 'lloc', 'treball', 'que', 'constar', 'PER', 'acord', 'que', 'es', 'indicar', 'PER', 'PER', 'requisit', 'com\\xc3\\xba', 'que', 'es', 'fixar', 'NP', 'part', 'requisit', 'addicional', 'concurs', 'optar', 'ser', 'PER', 'NP', 'servei', 'PER', 'NP', 'NP', 'pert\\xc3\\xa0nyer', 'NP', 'NP', 'NP', 'NP', 'NP'])\n",
      "Doc2 Lemmas: ('11-2008_18.txt', ['posseir', 'grau', 'nivell', 'PER', 'QUANT', 'lloc', 'treball', 'convocar', 'QUANT', 'punt'])\n",
      "\n",
      "Doc1 Lemmas: ('11-2008_18.txt', ['NP', 'QUANT', 'NP', 'QUANT', 'NP', 'decret', 'NP', 'NP', 'NP', 'NP', 'DATE', 'es', 'convocar', 'personal', 'NP', 'lloc', 'treball', 'que', 'constar', 'PER', 'acord', 'que', 'es', 'indicar', 'PER', 'PER', 'requisit', 'com\\xc3\\xba', 'que', 'es', 'fixar', 'NP', 'part', 'requisit', 'addicional', 'concurs', 'optar', 'ser', 'PER', 'NP', 'servei', 'PER', 'NP', 'NP', 'pert\\xc3\\xa0nyer', 'NP', 'NP', 'NP', 'NP', 'NP'])\n",
      "Doc2 Lemmas: ('11-2008_18.txt', ['posseir', 'grau', 'nivell', 'PER', 'QUANT', 'lloc', 'treball', 'convocar', 'QUANT', 'punt'])\n",
      "\n",
      "Doc1 Lemmas: ('11-2008_18.txt', ['NP', 'QUANT', 'NP', 'QUANT', 'NP', 'decret', 'NP', 'NP', 'NP', 'NP', 'DATE', 'es', 'convocar', 'personal', 'NP', 'lloc', 'treball', 'que', 'constar', 'PER', 'acord', 'que', 'es', 'indicar', 'PER', 'PER', 'requisit', 'com\\xc3\\xba', 'que', 'es', 'fixar', 'NP', 'part', 'requisit', 'addicional', 'concurs', 'optar', 'ser', 'PER', 'NP', 'servei', 'PER', 'NP', 'NP', 'pert\\xc3\\xa0nyer', 'NP', 'NP', 'NP', 'NP', 'NP'])\n",
      "Doc2 Lemmas: ('11-2008_18.txt', ['desenvolupament', 'lloc', 'treball', 'PER', 'QUANT', 'nivell', 'lloc', 'treball', 'convocar', 'QUANT', 'punt'])\n",
      "\n",
      "----------------\n",
      "Key is: (8, 28)\n",
      "\n",
      "Doc1 Lemmas: ('10-2004_4.txt', ['\\xc3\\xbas', 'NP', 'article', 'QUANT', 'NP', 'que', 'determinar', 'article', 'QUANT', 'NP', 'disposar', 'designar', 'NP', 'NP', 'gerent', 'NP'])\n",
      "Doc2 Lemmas: ('10-2004_4.txt', ['\\xc3\\xbas', 'NP', 'article', 'QUANT', 'NP', 'que', 'determinar', 'article', 'QUANT', 'NP', 'disposar', 'designar', 'NP', 'NP', 'gerent', 'NP'])\n",
      "\n",
      "Doc1 Lemmas: ('11-2008_18.txt', ['posseir', 'grau', 'nivell', 'PER', 'QUANT', 'lloc', 'treball', 'convocar', 'QUANT', 'punt'])\n",
      "Doc2 Lemmas: ('11-2008_18.txt', ['posseir', 'grau', 'nivell', 'PER', 'QUANT', 'lloc', 'treball', 'convocar', 'QUANT', 'punt'])\n",
      "\n",
      "Doc1 Lemmas: ('1-2016_14.txt', ['posseir', 'grau', 'nivell', 'PER', 'QUANT', 'lloc', 'treball', 'convocar', 'QUANT', 'punt'])\n",
      "Doc2 Lemmas: ('1-2016_14.txt', ['posseir', 'grau', 'nivell', 'PER', 'QUANT', 'lloc', 'treball', 'convocar', 'QUANT', 'QUANT'])\n",
      "\n",
      "Doc1 Lemmas: ('1-2014_2.txt', ['adscriure', 'lloc', 'QUANT', 'treball', 'NP', 'NP', 'NP', 'NP', 'QUANT'])\n",
      "Doc2 Lemmas: ('1-2014_2.txt', ['adscriure', 'lloc', 'QUANT', 'treball', 'NP', 'NP', 'NP', 'NP', 'QUANT'])\n",
      "\n",
      "Doc1 Lemmas: ('1-2014_2.txt', ['NP', 'DATE', 'DATE', 'NP', 'DATE', 'es', 'reunir', 'NP', 'NP', 'NP', 'actuar', 'NP', 'DATE', 'NP', 'NP', 'NP'])\n",
      "Doc2 Lemmas: ('1-2014_2.txt', ['NP', 'DATE', 'DATE', 'NP', 'DATE', 'es', 'reunir', 'NP', 'NP', 'NP', 'actuar', 'NP', 'DATE', 'NP', 'NP', 'NP'])\n",
      "\n",
      "Doc1 Lemmas: ('1-2014_2.txt', ['NP', 'NP', 'NP', 'NP', 'NP', 'NP', 'NP', 'NP', 'NP', 'NP', 'NP', 'NP', 'NP'])\n",
      "Doc2 Lemmas: ('1-2014_2.txt', ['NP', 'NP', 'NP', 'NP', 'NP', 'NP', 'NP', 'NP', 'NP', 'NP', 'NP', 'NP', 'NP'])\n",
      "\n",
      "Doc1 Lemmas: ('1-2014_2.txt', ['NP', 'NP', 'NP', 'NP', 'NP', 'NP', 'NP', 'NP', 'NP', 'NP', 'NP', 'NP', 'NP', 'NP', 'NP', 'NP', 'NP', 'NP', 'NP', 'NP', 'NP', 'NP', 'NP', 'NP', 'NP', 'NP', 'NP', 'NP', 'NP', 'NP', 'NP', 'NP', 'NP'])\n",
      "Doc2 Lemmas: ('1-2014_2.txt', ['NP', 'NP', 'NP', 'NP', 'NP', 'NP', 'NP', 'NP', 'NP', 'NP', 'NP', 'NP', 'NP', 'NP', 'NP', 'NP', 'NP', 'NP', 'NP', 'NP', 'NP', 'NP', 'NP', 'NP', 'assistir', 'NP', 'NP', 'NP', 'que', 'certificar'])\n",
      "\n",
      "Doc1 Lemmas: ('1-2014_2.txt', ['NP', 'NP', 'NP', 'NP', 'NP', 'NP', 'NP', 'NP', 'NP', 'NP', 'NP', 'NP', 'NP', 'NP', 'NP', 'NP', 'NP', 'NP', 'NP', 'NP', 'NP', 'NP', 'NP', 'NP', 'NP', 'NP', 'NP', 'NP', 'NP', 'NP', 'NP', 'NP', 'NP'])\n",
      "Doc2 Lemmas: ('1-2014_2.txt', ['NP', 'NP', 'NP', 'NP', 'NP', 'NP', 'NP', 'NP', 'NP', 'NP', 'NP', 'NP', 'NP', 'NP', 'NP', 'NP', 'NP', 'NP', 'NP', 'NP', 'NP', 'NP', 'NP', 'NP', 'assistir', 'NP', 'NP', 'NP', 'que', 'certificar'])\n",
      "\n",
      "Doc1 Lemmas: ('1-2014_2.txt', ['NP', 'NP', 'NP', 'NP', 'NP', 'NP', 'NP', 'NP', 'NP', 'NP', 'NP', 'NP', 'NP', 'NP', 'NP', 'NP', 'NP', 'NP', 'NP', 'NP', 'NP', 'NP', 'NP', 'NP', 'NP', 'NP', 'NP', 'NP', 'NP', 'NP', 'NP', 'NP', 'NP'])\n",
      "Doc2 Lemmas: ('1-2014_2.txt', ['es', 'rebutjar', 'dictamen', 'debat', 'vot', 'contra', 'NP', 'NP', 'NP', 'NP', 'NP', 'NP', 'NP', 'NP', 'NP', 'NP', 'NP', 'NP', 'NP', 'NP', 'NP', 'NP', 'NP', 'NP', 'NP', 'NP', 'tamb\\xc3\\xa9', 'NP', 'NP', 'NP', 'NP', 'NP'])\n",
      "\n",
      "Doc1 Lemmas: ('1-2014_2.txt', ['NP', 'NP', 'NP', 'NP', 'NP', 'NP', 'NP', 'NP', 'NP', 'NP', 'NP', 'NP', 'NP', 'NP', 'NP', 'NP', 'NP', 'NP', 'NP', 'NP', 'NP', 'NP', 'NP', 'NP', 'assistir', 'NP', 'NP', 'NP', 'que', 'certificar'])\n",
      "Doc2 Lemmas: ('1-2014_2.txt', ['NP', 'NP', 'NP', 'NP', 'NP', 'NP', 'NP', 'NP', 'NP', 'NP', 'NP', 'NP', 'NP', 'NP', 'NP', 'NP', 'NP', 'NP', 'NP', 'NP', 'NP', 'NP', 'NP', 'NP', 'NP', 'NP', 'NP', 'NP', 'NP', 'NP', 'NP', 'NP', 'NP'])\n",
      "\n"
     ]
    }
   ],
   "source": [
    "import numpy as np\n",
    "\n",
    "conn = psycopg2.connect(\"dbname=gaceta user=abarciauskas\")\n",
    "\n",
    "# get 10 pairs from each +/-1,2,3 standard deviations around the mean\n",
    "sd_range = range(-3,3)\n",
    "ranges = []\n",
    "for i in sd_range:\n",
    "    ranges.append((int(mu+i*sigma), int(mu+(i+1)*sigma)))\n",
    "\n",
    "sd_sets = dict((el,[]) for el in ranges)\n",
    "\n",
    "range_keys = sd_sets.keys()\n",
    "ranges = [range(x[0], x[1]) for x in range_keys]\n",
    "\n",
    "for score_tuple in scores:\n",
    "    docid1, docid2, score = score_tuple\n",
    "    bucket_idx = [i for i in range(len(ranges)) if score in ranges[i]]\n",
    "    if len(bucket_idx) == 1:\n",
    "        bucket_idx = bucket_idx[0]\n",
    "        sd_sets[range_keys[bucket_idx]].append([docid1,docid2])\n",
    "\n",
    "cur = conn.cursor()\n",
    "\n",
    "from pprint import pprint\n",
    "\n",
    "select_total = 10\n",
    "for key in range_keys:\n",
    "    print '----------------'\n",
    "    print \"Key is: \" + str(key)\n",
    "    print ''\n",
    "    doc_pairs = sd_sets[key][0:10]\n",
    "    for pair in doc_pairs:\n",
    "        doc1 = cur.execute(\"SELECT FileName,TaggedLemmas FROM processed_documents WHERE Id = \" + str(pair[0]))\n",
    "        res = cur.fetchone()\n",
    "        #lemmas1 = [lem.decode('utf8') for lem in res[1]]\n",
    "        print \"Doc1 Lemmas: \" + str(res)\n",
    "        doc2 = cur.execute(\"SELECT FileName,TaggedLemmas FROM processed_documents WHERE Id = \" + str(pair[1]))\n",
    "        res = cur.fetchone() \n",
    "        print \"Doc2 Lemmas: \" + str(res)\n",
    "        print ''\n",
    "\n",
    "cur.close()\n",
    "conn.close()"
   ]
  }
 ],
 "metadata": {
  "kernelspec": {
   "display_name": "Python 2",
   "language": "python",
   "name": "python2"
  },
  "language_info": {
   "codemirror_mode": {
    "name": "ipython",
    "version": 2
   },
   "file_extension": ".py",
   "mimetype": "text/x-python",
   "name": "python",
   "nbconvert_exporter": "python",
   "pygments_lexer": "ipython2",
   "version": "2.7.11"
  }
 },
 "nbformat": 4,
 "nbformat_minor": 0
}
