{
 "cells": [
  {
   "cell_type": "code",
   "execution_count": 2,
   "metadata": {
    "collapsed": true
   },
   "outputs": [],
   "source": [
    "import psycopg2\n",
    "import numpy as np\n",
    "import matplotlib.mlab as mlab\n",
    "import matplotlib.pyplot as plt\n",
    "import numpy as np\n",
    "import json\n",
    "import random\n",
    "execfile('utils.py')"
   ]
  },
  {
   "cell_type": "code",
   "execution_count": 226,
   "metadata": {
    "collapsed": false
   },
   "outputs": [
    {
     "data": {
      "text/plain": [
       "1540"
      ]
     },
     "execution_count": 226,
     "metadata": {},
     "output_type": "execute_result"
    }
   ],
   "source": [
    "database = 'fomc'\n",
    "conn = psycopg2.connect(\"dbname=\" + database + \" user=abarciauskas\")\n",
    "cur = conn.cursor()\n",
    "year = 2007\n",
    "\n",
    "cur.execute(\"SELECT termvector FROM corpii WHERE Year = '\" + str(year) + \"'\")\n",
    "term_vector = cur.fetchall()[0][0]\n",
    "len(term_vector)"
   ]
  },
  {
   "cell_type": "code",
   "execution_count": 49,
   "metadata": {
    "collapsed": false
   },
   "outputs": [
    {
     "data": {
      "text/plain": [
       "1000"
      ]
     },
     "execution_count": 49,
     "metadata": {},
     "output_type": "execute_result"
    }
   ],
   "source": [
    "cur.execute(\"SELECT tfidfvector FROM processed_documents WHERE Year = '\" + str(year) + \"'\"\n",
    "            \" ORDER BY random() LIMIT 1000\")\n",
    "results = cur.fetchall()\n",
    "len(results)"
   ]
  },
  {
   "cell_type": "code",
   "execution_count": 55,
   "metadata": {
    "collapsed": false
   },
   "outputs": [
    {
     "name": "stdout",
     "output_type": "stream",
     "text": [
      "1000\n",
      "1540\n"
     ]
    }
   ],
   "source": [
    "fomc_docs = [results[i][0] for i in range(len(results))]\n",
    "print len(fomc_docs)\n",
    "print len(fomc_docs[0])"
   ]
  },
  {
   "cell_type": "code",
   "execution_count": 102,
   "metadata": {
    "collapsed": false
   },
   "outputs": [],
   "source": [
    "from sklearn.metrics.pairwise import cosine_distances\n",
    "\n",
    "def new_euclidean_distances(X, Y=None, Y_norm_squared=None, squared=False):\n",
    "    return cosine_distances(X,Y)\n",
    "\n",
    "# monkey patch (ensure cosine dist function is used)\n",
    "from sklearn.cluster import KMeans\n",
    "\n",
    "KMeans.euclidean_distances = new_euclidean_distances "
   ]
  },
  {
   "cell_type": "code",
   "execution_count": 104,
   "metadata": {
    "collapsed": false
   },
   "outputs": [],
   "source": [
    "k = 10\n",
    "kmeans_model = KMeans(n_clusters=k)\n",
    "y_pred = kmeans_model.fit_predict(fomc_docs)"
   ]
  },
  {
   "cell_type": "code",
   "execution_count": 105,
   "metadata": {
    "collapsed": false
   },
   "outputs": [
    {
     "name": "stdout",
     "output_type": "stream",
     "text": [
      "Counter({1: 627, 3: 201, 4: 100, 6: 41, 8: 22, 2: 3, 5: 3, 0: 1, 7: 1, 9: 1})\n"
     ]
    }
   ],
   "source": [
    "from collections import Counter\n",
    "\n",
    "cluster_dists = Counter(y_pred)\n",
    "print cluster_dists"
   ]
  },
  {
   "cell_type": "code",
   "execution_count": 106,
   "metadata": {
    "collapsed": false
   },
   "outputs": [
    {
     "data": {
      "text/plain": [
       "38884.917227755686"
      ]
     },
     "execution_count": 106,
     "metadata": {},
     "output_type": "execute_result"
    }
   ],
   "source": [
    "kmeans_model.inertia_"
   ]
  },
  {
   "cell_type": "code",
   "execution_count": 107,
   "metadata": {
    "collapsed": false
   },
   "outputs": [],
   "source": [
    "ks = range(10,1000,50)\n",
    "inertias = []\n",
    "for k in ks:\n",
    "    kmeans_model = KMeans(n_clusters=k)\n",
    "    y_pred = kmeans_model.fit_predict(fomc_docs)\n",
    "    inertias.append(kmeans_model.inertia_)"
   ]
  },
  {
   "cell_type": "code",
   "execution_count": 108,
   "metadata": {
    "collapsed": false
   },
   "outputs": [
    {
     "name": "stdout",
     "output_type": "stream",
     "text": [
      "[38581.212831071643, 32989.718096314995, 28960.761442872419, 25319.632713165149, 22143.776711762308, 19364.247191793092, 16835.676661843812, 14516.742774308281, 12502.435276567596, 10573.45906679986, 8852.4921566828998, 7251.9860068740791, 5828.9542141087277, 4553.4817513692651, 3435.1686954418565, 2372.3945319317381, 1488.0999088916712, 775.32442494968325, 296.56886796358589, 18.775605278035997]\n"
     ]
    }
   ],
   "source": [
    "print inertias"
   ]
  },
  {
   "cell_type": "code",
   "execution_count": 109,
   "metadata": {
    "collapsed": false
   },
   "outputs": [
    {
     "data": {
      "image/png": "[encoded data removed]",
      "text/plain": [
       "<matplotlib.figure.Figure at 0x1104ab210>"
      ]
     },
     "metadata": {},
     "output_type": "display_data"
    }
   ],
   "source": [
    "%matplotlib inline\n",
    "line, = plt.plot(ks, inertias, '--', linewidth=2)\n",
    "\n",
    "plt.show()"
   ]
  },
  {
   "cell_type": "code",
   "execution_count": 111,
   "metadata": {
    "collapsed": false
   },
   "outputs": [],
   "source": [
    "from utils import *"
   ]
  },
  {
   "cell_type": "code",
   "execution_count": 275,
   "metadata": {
    "collapsed": false
   },
   "outputs": [
    {
     "data": {
      "text/plain": [
       "1000"
      ]
     },
     "execution_count": 275,
     "metadata": {},
     "output_type": "execute_result"
    }
   ],
   "source": [
    "cosine_thresh = 0.33\n",
    "cur.execute(\"SELECT Doc1Id,Doc2Id,CosineSimilarity FROM alignments WHERE Year = '\" + str(year) + \"'\"\n",
    "           \" AND CosineSimilarity >= \" + str(cosine_thresh) + \" ORDER BY random() LIMIT 1000\")\n",
    "cosine_sims = cur.fetchall()\n",
    "len(cosine_sims)"
   ]
  },
  {
   "cell_type": "code",
   "execution_count": 276,
   "metadata": {
    "collapsed": false
   },
   "outputs": [
    {
     "name": "stdout",
     "output_type": "stream",
     "text": [
      "Number vertices in complete graph: 816\n",
      "Number edges in complete graph: 1000\n"
     ]
    }
   ],
   "source": [
    "edges, vertices = create_graph(cosine_sims)\n",
    "print 'Number vertices in complete graph: ' + str(len(vertices))\n",
    "print 'Number edges in complete graph: ' + str(len(edges))"
   ]
  },
  {
   "cell_type": "code",
   "execution_count": 277,
   "metadata": {
    "collapsed": false
   },
   "outputs": [
    {
     "name": "stdout",
     "output_type": "stream",
     "text": [
      "Number vertices fully connected graph: 413\n"
     ]
    }
   ],
   "source": [
    "# need to find disconnected graphs\n",
    "graphs = build_distinct_graphs(vertices)\n",
    "\n",
    "graph_lengths = [len(graph) for graph in graphs]\n",
    "fc_graph = graphs[graph_lengths.index(max(graph_lengths))]\n",
    "print 'Number vertices fully connected graph: ' + str(len(fc_graph))"
   ]
  },
  {
   "cell_type": "code",
   "execution_count": 278,
   "metadata": {
    "collapsed": false
   },
   "outputs": [
    {
     "data": {
      "text/plain": [
       "413"
      ]
     },
     "execution_count": 278,
     "metadata": {},
     "output_type": "execute_result"
    }
   ],
   "source": [
    "str_ids = str(fc_graph)\n",
    "str_ids = str_ids.replace('[', '(')\n",
    "str_ids = str_ids.replace(']', ')')\n",
    "\n",
    "\n",
    "cur.execute(\"SELECT tfidfvector FROM processed_documents WHERE Id IN \" + str_ids)\n",
    "results = cur.fetchall()\n",
    "len(results)"
   ]
  },
  {
   "cell_type": "code",
   "execution_count": 279,
   "metadata": {
    "collapsed": false
   },
   "outputs": [
    {
     "name": "stdout",
     "output_type": "stream",
     "text": [
      "413\n",
      "1540\n"
     ]
    }
   ],
   "source": [
    "fomc_docs = [results[i][0] for i in range(len(results))]\n",
    "print len(fomc_docs)\n",
    "print len(fomc_docs[0])"
   ]
  },
  {
   "cell_type": "code",
   "execution_count": 313,
   "metadata": {
    "collapsed": false
   },
   "outputs": [
    {
     "name": "stdout",
     "output_type": "stream",
     "text": [
      "19\n",
      "19\n"
     ]
    }
   ],
   "source": [
    "ks = range(5,100,5)\n",
    "kluster_iters = 30\n",
    "min_inertias = []\n",
    "best_models = []\n",
    "# heurstic to find elbow as described in http://nlp.stanford.edu/IR-book/pdf/16flat.pdf\n",
    "for k in ks:\n",
    "    min_inertia = float(\"inf\")\n",
    "    best_model = None\n",
    "    for itera in range(kluster_iters):\n",
    "        kmeans_model = KMeans(n_clusters=k)\n",
    "        y_pred = kmeans_model.fit_predict(fomc_docs)\n",
    "        if kmeans_model.inertia_ < min_inertia:\n",
    "            min_inertia = kmeans_model.inertia_\n",
    "            best_model = kmeans_model\n",
    "    best_models.append(best_model)\n",
    "    min_inertias.append(min_inertia)\n",
    "\n",
    "print len(ks)\n",
    "print len(min_inertias)"
   ]
  },
  {
   "cell_type": "code",
   "execution_count": 314,
   "metadata": {
    "collapsed": false
   },
   "outputs": [
    {
     "data": {
      "image/png": "[encoded data removed]",
      "text/plain": [
       "<matplotlib.figure.Figure at 0x10a2527d0>"
      ]
     },
     "metadata": {},
     "output_type": "display_data"
    }
   ],
   "source": [
    "%matplotlib inline\n",
    "line, = plt.plot(ks, min_inertias, linewidth=2)\n",
    "\n",
    "plt.show()"
   ]
  },
  {
   "cell_type": "code",
   "execution_count": 343,
   "metadata": {
    "collapsed": false
   },
   "outputs": [
    {
     "data": {
      "text/plain": [
       "45"
      ]
     },
     "execution_count": 343,
     "metadata": {},
     "output_type": "execute_result"
    }
   ],
   "source": [
    "chosen_model = best_models[9]\n",
    "ks[8]"
   ]
  },
  {
   "cell_type": "code",
   "execution_count": 344,
   "metadata": {
    "collapsed": false
   },
   "outputs": [
    {
     "name": "stdout",
     "output_type": "stream",
     "text": [
      "Counter({4: 138, 14: 29, 15: 16, 17: 16, 24: 16, 8: 14, 9: 14, 11: 13, 5: 11, 23: 11, 26: 10, 36: 10, 13: 9, 30: 9, 43: 8, 1: 7, 45: 7, 2: 5, 19: 5, 27: 5, 29: 5, 44: 5, 22: 4, 39: 4, 3: 3, 6: 3, 10: 3, 12: 3, 48: 3, 16: 2, 31: 2, 32: 2, 37: 2, 40: 2, 46: 2, 0: 1, 7: 1, 18: 1, 20: 1, 21: 1, 25: 1, 28: 1, 33: 1, 34: 1, 35: 1, 38: 1, 41: 1, 42: 1, 47: 1, 49: 1})\n"
     ]
    }
   ],
   "source": [
    "y_pred = chosen_model.fit_predict(fomc_docs)\n",
    "cluster_dists = Counter(y_pred)\n",
    "print cluster_dists"
   ]
  },
  {
   "cell_type": "code",
   "execution_count": 340,
   "metadata": {
    "collapsed": false
   },
   "outputs": [
    {
     "data": {
      "text/plain": [
       "6"
      ]
     },
     "execution_count": 340,
     "metadata": {},
     "output_type": "execute_result"
    }
   ],
   "source": [
    "word_idcs_for_cluster = np.argwhere(chosen_model.cluster_centers_[19] > 0.25)\n",
    "len(word_idcs_for_cluster)"
   ]
  },
  {
   "cell_type": "code",
   "execution_count": 341,
   "metadata": {
    "collapsed": false
   },
   "outputs": [
    {
     "name": "stdout",
     "output_type": "stream",
     "text": [
      "forward-look\n",
      "double-digit\n",
      "creep\n",
      "disadvantag\n",
      "long-horizon\n",
      "toward\n"
     ]
    }
   ],
   "source": [
    "for idx, word in enumerate(term_vector):\n",
    "    if idx in word_idcs_for_cluster: print word"
   ]
  },
  {
   "cell_type": "code",
   "execution_count": 360,
   "metadata": {
    "collapsed": true
   },
   "outputs": [],
   "source": [
    "k = 45\n",
    "min_inertia = float(\"inf\")\n",
    "kluster_iters = range(10,2000,50)\n",
    "best_model = None\n",
    "inertias = []\n",
    "for itera in kluster_iters:\n",
    "    kmeans_model = KMeans(n_clusters=k, max_iter=itera)\n",
    "    y_pred = kmeans_model.fit_predict(fomc_docs)\n",
    "    inertias.append(kmeans_model.inertia_)\n",
    "    if kmeans_model.inertia_ < min_inertia:\n",
    "        min_inertia = kmeans_model.inertia_\n",
    "        best_model = kmeans_model"
   ]
  },
  {
   "cell_type": "code",
   "execution_count": 361,
   "metadata": {
    "collapsed": false
   },
   "outputs": [
    {
     "data": {
      "image/png": "[encoded data removed]",
      "text/plain": [
       "<matplotlib.figure.Figure at 0x10b148490>"
      ]
     },
     "metadata": {},
     "output_type": "display_data"
    }
   ],
   "source": [
    "%matplotlib inline\n",
    "line, = plt.plot(kluster_iters, inertias, linewidth=2)\n",
    "plt.show()"
   ]
  },
  {
   "cell_type": "code",
   "execution_count": 346,
   "metadata": {
    "collapsed": false
   },
   "outputs": [
    {
     "name": "stdout",
     "output_type": "stream",
     "text": [
      "Counter({1: 196, 20: 17, 10: 15, 23: 15, 32: 13, 33: 13, 9: 11, 22: 11, 6: 10, 30: 9, 3: 8, 7: 8, 27: 8, 35: 7, 2: 5, 15: 5, 42: 5, 14: 4, 37: 4, 4: 3, 8: 3, 12: 3, 17: 3, 29: 3, 36: 3, 43: 3, 0: 2, 11: 2, 13: 2, 18: 2, 21: 2, 24: 2, 25: 2, 34: 2, 38: 2, 5: 1, 16: 1, 19: 1, 26: 1, 28: 1, 31: 1, 39: 1, 40: 1, 41: 1, 44: 1})\n"
     ]
    }
   ],
   "source": [
    "y_pred = best_model.fit_predict(fomc_docs)\n",
    "cluster_dists = Counter(y_pred)\n",
    "print cluster_dists"
   ]
  },
  {
   "cell_type": "code",
   "execution_count": 353,
   "metadata": {
    "collapsed": false
   },
   "outputs": [
    {
     "name": "stdout",
     "output_type": "stream",
     "text": [
      "9\n",
      "thu\n",
      "correct\n",
      "resurg\n",
      "confront\n",
      "litr\n",
      "good\n",
      "subpar\n",
      "mute\n",
      "incom\n"
     ]
    }
   ],
   "source": [
    "word_idcs_for_cluster = np.argwhere(best_model.cluster_centers_[10] > 0.5)\n",
    "print len(word_idcs_for_cluster)\n",
    "for idx, word in enumerate(term_vector):\n",
    "    if idx in word_idcs_for_cluster: print word"
   ]
  }
 ],
 "metadata": {
  "kernelspec": {
   "display_name": "Python 2",
   "language": "python",
   "name": "python2"
  },
  "language_info": {
   "codemirror_mode": {
    "name": "ipython",
    "version": 2
   },
   "file_extension": ".py",
   "mimetype": "text/x-python",
   "name": "python",
   "nbconvert_exporter": "python",
   "pygments_lexer": "ipython2",
   "version": "2.7.11"
  }
 },
 "nbformat": 4,
 "nbformat_minor": 0
}
