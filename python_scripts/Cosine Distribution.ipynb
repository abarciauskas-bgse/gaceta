{
 "cells": [
  {
   "cell_type": "code",
   "execution_count": 1,
   "metadata": {
    "collapsed": true
   },
   "outputs": [],
   "source": [
    "import psycopg2\n",
    "import numpy as np\n",
    "import matplotlib.mlab as mlab\n",
    "import matplotlib.pyplot as plt\n",
    "import numpy as np\n",
    "import json\n",
    "\n",
    "database = 'fomc'\n",
    "conn = psycopg2.connect(\"dbname=\" + database + \" user=abarciauskas\")\n",
    "cur = conn.cursor()\n",
    "\n",
    "cur.execute(\"SELECT Doc1Id,Doc2Id,CosineSimilarity FROM alignments ORDER BY random() limit 10000\")\n",
    "cosine_sims = cur.fetchall()"
   ]
  },
  {
   "cell_type": "code",
   "execution_count": 2,
   "metadata": {
    "collapsed": false
   },
   "outputs": [
    {
     "data": {
      "image/png": "[encoded data removed]",
      "text/plain": [
       "<matplotlib.figure.Figure at 0x10687e8d0>"
      ]
     },
     "metadata": {},
     "output_type": "display_data"
    }
   ],
   "source": [
    "%matplotlib inline\n",
    "\n",
    "cos_list = [float(cosine[2]) for cosine in cosine_sims]\n",
    "\n",
    "cos_list[0:10]\n",
    "# the histogram of the data\n",
    "n, bins, patches = plt.hist(cos_list, 100, normed=1, facecolor='green', alpha=0.75)\n",
    "mu = np.mean(cos_list)\n",
    "sigma = np.std(cos_list)\n",
    "plt.title(r'$\\mathrm{Histogram\\ of\\ Cosine Similarity measures:}\\ \\mu=' + str(mu) + ',\\ \\sigma=' + str(sigma) + '$')\n",
    "# Note: there is a value lower, ths has cut some extremes\n",
    "plt.axis([0, 0.2, 0, 70])\n",
    "plt.grid(True)\n",
    "\n",
    "plt.show()"
   ]
  },
  {
   "cell_type": "code",
   "execution_count": 3,
   "metadata": {
    "collapsed": false
   },
   "outputs": [
    {
     "data": {
      "text/plain": [
       "array([ 0.        ,  0.01304979,  0.02433026,  0.0428158 ,  0.07223504])"
      ]
     },
     "execution_count": 3,
     "metadata": {},
     "output_type": "execute_result"
    }
   ],
   "source": [
    "np.percentile(cos_list, np.arange(50,100,10))"
   ]
  },
  {
   "cell_type": "code",
   "execution_count": 4,
   "metadata": {
    "collapsed": false
   },
   "outputs": [],
   "source": [
    "very_similar_pairs = filter(lambda x: x[2] > 0.13, cosine_sims)"
   ]
  },
  {
   "cell_type": "code",
   "execution_count": 5,
   "metadata": {
    "collapsed": false
   },
   "outputs": [
    {
     "data": {
      "text/plain": [
       "0.0335"
      ]
     },
     "execution_count": 5,
     "metadata": {},
     "output_type": "execute_result"
    }
   ],
   "source": [
    "float(len(very_similar_pairs))/len(cosine_sims)"
   ]
  },
  {
   "cell_type": "code",
   "execution_count": 6,
   "metadata": {
    "collapsed": false
   },
   "outputs": [
    {
     "data": {
      "text/plain": [
       "(1157, 1839, Decimal('0.13287551107869547'))"
      ]
     },
     "execution_count": 6,
     "metadata": {},
     "output_type": "execute_result"
    }
   ],
   "source": [
    "import random\n",
    "rand_pair = random.choice(very_similar_pairs)\n",
    "rand_pair"
   ]
  },
  {
   "cell_type": "code",
   "execution_count": 7,
   "metadata": {
    "collapsed": false
   },
   "outputs": [
    {
     "name": "stdout",
     "output_type": "stream",
     "text": [
      "('Household debt growth likely moderated amid hints of a downshift in mortgage borrowing from its robust third-quarter pace and an outright decline in consumer credit, which owed in part to increased charge-offs from Octobers spike in bankruptcy filings.',)\n",
      "('The increase likely owed in part to the exercise of stock options and cash bonuses; other data that did not include such forms of compensation pointed to more moderate increases.',)\n"
     ]
    }
   ],
   "source": [
    "sql = \"SELECT Original FROM processed_documents WHERE Id = \" + str(rand_pair[0]) + \" OR Id = \" + str(rand_pair[1]) + \";\"\n",
    "cur.execute(sql)\n",
    "docs = cur.fetchall()\n",
    "print docs[0]\n",
    "print docs[1]"
   ]
  }
 ],
 "metadata": {
  "kernelspec": {
   "display_name": "Python 2",
   "language": "python",
   "name": "python2"
  },
  "language_info": {
   "codemirror_mode": {
    "name": "ipython",
    "version": 2
   },
   "file_extension": ".py",
   "mimetype": "text/x-python",
   "name": "python",
   "nbconvert_exporter": "python",
   "pygments_lexer": "ipython2",
   "version": "2.7.11"
  }
 },
 "nbformat": 4,
 "nbformat_minor": 0
}
