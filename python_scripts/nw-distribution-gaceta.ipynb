{
 "cells": [
  {
   "cell_type": "markdown",
   "metadata": {},
   "source": [
    "## NW Alignment distributions for sentences\n",
    "\n",
    "* \"Documents\" stored are lists of lemmas extracted from sentences in each SPLIT_NORM document\n",
    "  * Catalan stop words removed\n",
    "  * Named Entities replaced with tags \"QUANT, DATE, MISC, PER, LOC, ORG\"\n",
    "* Currently, there are stored 6734 documents from 2209 files (there are 13,116 total files)\n",
    "* Computing and storing intra-file Needleman-Wunsch scores (in alignments) finished in a reasonable time (~a minute)\n",
    "    * For these 2209 files, it calculated 23,421 scores\n",
    "* The distribution is left-skewed, indicating most documents are relatively dissimilar.\n",
    "\n",
    "Here is an example of a list of lemma's from 2 documents with a score of 10:\n",
    "\n",
    "* {que,en,el,termini,de,LN_m:6,ho,presentar,en,el,plenari_de_el_consell_municipal_de_l'_ajuntament_de_barcelona}\n",
    "* {que,en,el,termini,de,LN_m:6,ho,presentar,en,el,consell_plenari_de_l'_ajuntament_de_barcelona}\n",
    "\n",
    "**Important note: These scores are not scaled by length of the documents. Similar documents which are long will have a much higher score than shorter documents which are similar. The opposite is also true: longer documents which are extremely dissimilary will have much lower scores than shorter documents which are dissimilar.**"
   ]
  },
  {
   "cell_type": "code",
   "execution_count": 2,
   "metadata": {
    "collapsed": false
   },
   "outputs": [
    {
     "data": {
      "text/plain": [
       "(6454, 6455, -32)"
      ]
     },
     "execution_count": 2,
     "metadata": {},
     "output_type": "execute_result"
    }
   ],
   "source": [
    "import psycopg2\n",
    "conn = psycopg2.connect(\"dbname=gaceta user=abarciauskas\")\n",
    "cur = conn.cursor()\n",
    "\n",
    "cur.execute(\"SELECT Doc1Id,Doc2Id,Score FROM alignments\")\n",
    "scores = cur.fetchall()\n",
    "cur.close()\n",
    "conn.close()\n",
    "scores[0]"
   ]
  },
  {
   "cell_type": "code",
   "execution_count": 3,
   "metadata": {
    "collapsed": false
   },
   "outputs": [
    {
     "name": "stdout",
     "output_type": "stream",
     "text": [
      "145742\n",
      "145704\n"
     ]
    }
   ],
   "source": [
    "score_list = [score[2] for score in scores]\n",
    "print(len(score_list))\n",
    "score_list = [item for item in score_list if item > -200]\n",
    "print(len(score_list))"
   ]
  },
  {
   "cell_type": "code",
   "execution_count": 4,
   "metadata": {
    "collapsed": false
   },
   "outputs": [
    {
     "data": {
      "image/png": "[encoded data removed]",
      "text/plain": [
       "<matplotlib.figure.Figure at 0x106822590>"
      ]
     },
     "metadata": {},
     "output_type": "display_data"
    }
   ],
   "source": [
    "%matplotlib inline\n",
    "\n",
    "import numpy as np\n",
    "import matplotlib.mlab as mlab\n",
    "import matplotlib.pyplot as plt\n",
    "\n",
    "# the histogram of the data\n",
    "n, bins, patches = plt.hist(score_list, 100, normed=1, facecolor='green', alpha=0.75)\n",
    "mu = np.mean(score_list)\n",
    "sigma = np.std(score_list)\n",
    "plt.title(r'$\\mathrm{Histogram\\ of\\ NW scores:}\\ \\mu=' + str(mu) + ',\\ \\sigma=' + str(sigma) + '$')\n",
    "# Note: there is a value lower, ths has cut some extremes\n",
    "plt.axis([-200, 50, 0, 0.062])\n",
    "plt.grid(True)\n",
    "\n",
    "plt.show()"
   ]
  },
  {
   "cell_type": "code",
   "execution_count": 8,
   "metadata": {
    "collapsed": false
   },
   "outputs": [
    {
     "name": "stdout",
     "output_type": "stream",
     "text": [
      "----------------\n",
      "Key is: (17, 40)\n",
      "\n",
      "----------------\n",
      "Key is: (-98, -75)\n",
      "\n",
      "----------------\n",
      "Key is: (-28, -5)\n",
      "\n",
      "----------------\n",
      "Key is: (-5, 17)\n",
      "\n",
      "----------------\n",
      "Key is: (-52, -28)\n",
      "\n",
      "----------------\n",
      "Key is: (-75, -52)\n",
      "\n"
     ]
    }
   ],
   "source": [
    "import numpy as np\n",
    "import json\n",
    "\n",
    "conn = psycopg2.connect(\"dbname=gaceta user=abarciauskas\")\n",
    "\n",
    "# get 10 pairs from each +/-1,2,3 standard deviations around the mean\n",
    "sd_range = range(-3,3)\n",
    "ranges = []\n",
    "for i in sd_range:\n",
    "    ranges.append((int(mu+i*sigma), int(mu+(i+1)*sigma)))\n",
    "\n",
    "sd_sets = dict((el,[]) for el in ranges)\n",
    "\n",
    "range_keys = sd_sets.keys()\n",
    "ranges = [range(x[0], x[1]) for x in range_keys]\n",
    "\n",
    "for score_tuple in scores:\n",
    "    docid1, docid2, score = score_tuple\n",
    "    bucket_idx = [i for i in range(len(ranges)) if score in ranges[i]]\n",
    "    if len(bucket_idx) == 1:\n",
    "        bucket_idx = bucket_idx[0]\n",
    "        sd_sets[range_keys[bucket_idx]].append([docid1,docid2,score])\n",
    "\n",
    "cur = conn.cursor()\n",
    "\n",
    "from pprint import pprint\n",
    "\n",
    "select_total = 10\n",
    "tasks = []\n",
    "question = \"Are these sentences redundant?\"\n",
    "for key in range_keys:\n",
    "    print '----------------'\n",
    "    print \"Key is: \" + str(key)\n",
    "    print ''\n",
    "    doc_pairs = sd_sets[key][0:10]\n",
    "    for pair in doc_pairs:\n",
    "        doc1 = cur.execute(\"SELECT Id,Original,FileName FROM processed_documents WHERE Id = \" + str(pair[0]))\n",
    "        doc1 = cur.fetchone()\n",
    "        doc2 = cur.execute(\"SELECT Id,Original FROM processed_documents WHERE Id = \" + str(pair[1]))\n",
    "        doc2 = cur.fetchone()\n",
    "        task = {\n",
    "                'question': question,\n",
    "                'doc1id': doc1[0],\n",
    "                'doc1': doc1[1],\n",
    "                'doc2id': doc2[0],\n",
    "                'doc2': doc2[1],\n",
    "                'filename': doc1[2],\n",
    "                'nw_score': pair[2]\n",
    "            }\n",
    "        tasks.append(task)\n",
    "\n",
    "with open(\"gaceta_tasks.json\", \"w+\") as jsonfile:\n",
    "    json.dump(tasks, jsonfile)\n",
    "\n",
    "cur.close()\n",
    "conn.close()"
   ]
  }
 ],
 "metadata": {
  "kernelspec": {
   "display_name": "Python 2",
   "language": "python",
   "name": "python2"
  },
  "language_info": {
   "codemirror_mode": {
    "name": "ipython",
    "version": 2
   },
   "file_extension": ".py",
   "mimetype": "text/x-python",
   "name": "python",
   "nbconvert_exporter": "python",
   "pygments_lexer": "ipython2",
   "version": "2.7.11"
  }
 },
 "nbformat": 4,
 "nbformat_minor": 0
}
