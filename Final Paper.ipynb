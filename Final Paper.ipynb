{
 "cells": [
  {
   "cell_type": "markdown",
   "metadata": {},
   "source": [
    "# Redundancy in Government Documents\n",
    "\n",
    "## Abstract\n",
    "\n",
    "E-government initiatives offer unprecedented transparency into government proceedings. But parsing and gleaning meaning from a large corpus is often intractable for the average citizen. Furthermore, the use of \"administrative jargon\" creates a barrier to understanding and parsing by the general public. Exploiting redundancy in these texts may facilitate summarization, insights and visualition of these texts.\n",
    "\n",
    "In what follows, a simplifying assumption is made that measures of similarity can be used to signal redundancy, where redundancy is considered as a more strict definition of similarity. For example, \"my dog ate my homework\" and \"my assignment was eaten by a canine\" are both similar and redundant, whereas the former is completely similar, in one sense, to \"My homework is to write about what my dog ate\" but not redundant.\n",
    "\n",
    "Given the relationship between similarity and redundancy, from the evaluation of similarity measures, a threshold for  redundancy may be gleaned from human experts. In other words, the threshold for some similarity measuring signaling redundancy is a heuristic to be determined.\n",
    "\n",
    "## Data\n",
    "\n",
    "Two sources of data were used for this project:\n",
    "\n",
    "1. Minutes of the Federal Open Market Commission (FOMC)\n",
    "2. Barcelona's Municipal Gazette\n",
    "\n",
    "#### FOMC data\n",
    "\n",
    "[Source](http://stanford.edu/~rezab/useful/fomc_minutes.html)\n",
    "\n",
    "The minutes are from FOMC meetings from 1967 to 2008.\n",
    "\n",
    "#### Barcelona's Municipal Gazette\n",
    "\n",
    "[Source](https://w33.bcn.cat/GasetaMunicipal/Inici?lang=EN)\n",
    "\n",
    "First, raw text from the pdf files was extracted programmatically. Second, a native catalan speaker used heuristics to create a programmatic way of parsing sub-documents composing the overall text document. For example, the PDF documents included long tables of contents and data tables. In the second pass, these non-textual objects are ignored and resulting documents are the large sub-sections of the original document, such as \"Acords\" (i.e. \"agreements\") and various commissions reports\n",
    "\n",
    "## Current Methods\n",
    "\n",
    "To start the task of analyzing redundancy, what follows is a review of existing methods.\n"
   ]
  }
 ],
 "metadata": {
  "kernelspec": {
   "display_name": "Python 2",
   "language": "python",
   "name": "python2"
  },
  "language_info": {
   "codemirror_mode": {
    "name": "ipython",
    "version": 2
   },
   "file_extension": ".py",
   "mimetype": "text/x-python",
   "name": "python",
   "nbconvert_exporter": "python",
   "pygments_lexer": "ipython2",
   "version": "2.7.11"
  }
 },
 "nbformat": 4,
 "nbformat_minor": 0
}
