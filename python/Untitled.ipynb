{
 "cells": [
  {
   "cell_type": "code",
   "execution_count": 8,
   "metadata": {
    "collapsed": false
   },
   "outputs": [
    {
     "data": {
      "text/plain": [
       "0      1-2000_1.txt\n",
       "1     1-2000_10.txt\n",
       "2     1-2000_11.txt\n",
       "3     1-2000_12.txt\n",
       "4     1-2000_13.txt\n",
       "5      1-2000_2.txt\n",
       "6      1-2000_3.txt\n",
       "7      1-2000_4.txt\n",
       "8      1-2000_5.txt\n",
       "9      1-2000_6.txt\n",
       "10     1-2000_7.txt\n",
       "11     1-2000_8.txt\n",
       "12     1-2000_9.txt\n",
       "13     1-2001_1.txt\n",
       "14    1-2001_10.txt\n",
       "15    1-2001_11.txt\n",
       "16    1-2001_12.txt\n",
       "17    1-2001_13.txt\n",
       "18    1-2001_14.txt\n",
       "19    1-2001_15.txt\n",
       "20    1-2001_16.txt\n",
       "21    1-2001_17.txt\n",
       "22    1-2001_18.txt\n",
       "23    1-2001_19.txt\n",
       "24     1-2001_2.txt\n",
       "25    1-2001_20.txt\n",
       "26    1-2001_21.txt\n",
       "27    1-2001_22.txt\n",
       "28    1-2001_23.txt\n",
       "29    1-2001_24.txt\n",
       "          ...      \n",
       "70     1-2004_1.txt\n",
       "71    1-2004_10.txt\n",
       "72    1-2004_11.txt\n",
       "73     1-2004_2.txt\n",
       "74     1-2004_3.txt\n",
       "75     1-2004_4.txt\n",
       "76     1-2004_5.txt\n",
       "77     1-2004_6.txt\n",
       "78     1-2004_7.txt\n",
       "79     1-2004_8.txt\n",
       "80     1-2004_9.txt\n",
       "81     1-2005_1.txt\n",
       "82    1-2005_10.txt\n",
       "83    1-2005_11.txt\n",
       "84    1-2005_12.txt\n",
       "85    1-2005_13.txt\n",
       "86    1-2005_14.txt\n",
       "87     1-2005_2.txt\n",
       "88     1-2005_3.txt\n",
       "89     1-2005_4.txt\n",
       "90     1-2005_5.txt\n",
       "91     1-2005_6.txt\n",
       "92     1-2005_7.txt\n",
       "93     1-2005_8.txt\n",
       "94     1-2005_9.txt\n",
       "95     1-2006_1.txt\n",
       "96    1-2006_10.txt\n",
       "97    1-2006_11.txt\n",
       "98    1-2006_12.txt\n",
       "99    1-2006_13.txt\n",
       "Name: filename, dtype: object"
      ]
     },
     "execution_count": 8,
     "metadata": {},
     "output_type": "execute_result"
    }
   ],
   "source": [
    "import pandas as pd\n",
    "data = pd.read_csv('../nw_split_norm_times.csv', header = None, names = ['filename', 'bytes', 'nw_process_time'])\n",
    "data.head()"
   ]
  },
  {
   "cell_type": "code",
   "execution_count": null,
   "metadata": {
    "collapsed": false
   },
   "outputs": [],
   "source": [
    "import matplotlib.pyplot as plt\n",
    "import numpy as np\n",
    "\n",
    "colors = 'red'\n",
    "area = 3\n",
    "\n",
    "plt.scatter(data['bytes'], data['nw_process_time'], s=area, c=colors, alpha=0.5)\n",
    "plt.show()"
   ]
  },
  {
   "cell_type": "code",
   "execution_count": null,
   "metadata": {
    "collapsed": true
   },
   "outputs": [],
   "source": []
  }
 ],
 "metadata": {
  "kernelspec": {
   "display_name": "Python 2",
   "language": "python",
   "name": "python2"
  },
  "language_info": {
   "codemirror_mode": {
    "name": "ipython",
    "version": 2
   },
   "file_extension": ".py",
   "mimetype": "text/x-python",
   "name": "python",
   "nbconvert_exporter": "python",
   "pygments_lexer": "ipython2",
   "version": "2.7.10"
  }
 },
 "nbformat": 4,
 "nbformat_minor": 0
}
